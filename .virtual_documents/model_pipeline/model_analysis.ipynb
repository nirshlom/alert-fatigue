import sys
import os
from pathlib import Path

# # Add the parent directory to the path to allow imports
# sys.path.append(str(Path(__file__).parent.parent))

from model_pipeline.config import get_config
from model_pipeline.pipeline import run_full_training, run_preprocessing_only
from model_pipeline.models.statsmodels_logit import StatsmodelsLogitModel
from model_pipeline.reporting.coefficients import (
    coefficients_to_or, create_coefficient_summary, filter_significant_coefficients,
    sort_coefficients_by_importance
)


# Get centralized configuration
config = get_config()
    
# Display configuration
print(f"Input CSV: {config['input_csv_path']}")
print(f"Date Column: {config['date_column']}")
print(f"Target Column: {config['target_column']}")
print(f"Features: {config['feature_columns']}")


# get file path
file_path = config['input_csv_path']
file_path





# Run preprocessing only:

train_df, eval_df, test_df, artifacts = run_preprocessing_only(config)


# Get trainset

train_df.head()


# Get evaluation set

eval_df.head()


# get artifacts
profile_path = artifacts['profile_path']
run_directory = artifacts['run_directory']
print(profile_path)
print(run_directory)





# Train model
print("Training logistic regression model...")
model = StatsmodelsLogitModel(use_glm=config['use_glm'])
    
train_features = train_df[config['feature_columns']]
train_target = train_df[config['target_column']]
    
model.fit(train_features, train_target)
    
    # Get model summary
model_summary = model.get_model_summary()
aic_bic = model.get_aic_bic()


print(model_summary)


 # Get coefficients and convert to odds ratios
print("Analyzing coefficients...")
coef_df = model.get_coefficients()
or_df = coefficients_to_or(coef_df)
    
# Sort coefficients by importance
or_df_sorted = sort_coefficients_by_importance(or_df, method='odds_ratio')
    
# Filter significant coefficients
significant_coef = filter_significant_coefficients(or_df)
    
# Create coefficient summary
coef_summary = create_coefficient_summary(or_df)


coef_summary



