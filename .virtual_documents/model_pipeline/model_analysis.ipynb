import sys
import os
from pathlib import Path

# # Add the parent directory to the path to allow imports
# sys.path.append(str(Path(__file__).parent.parent))

from model_pipeline.config import get_config
from model_pipeline.pipeline import run_full_training, run_preprocessing_only





# Get centralized configuration
config = get_config()
    
# Display configuration
print(f"Input CSV: {config['input_csv_path']}")
print(f"Date Column: {config['date_column']}")
print(f"Target Column: {config['target_column']}")
print(f"Features: {config['feature_columns']}")


# get file path
file_path = config['input_csv_path']
file_path





# Run preprocessing only:

train_df, eval_df, test_df, artifacts = run_preprocessing_only(config)


# Get trainset

train_df.head()


# Get evaluation set

eval_df.head()


# get artifacts
profile_path = artifacts['profile_path']
run_directory = artifacts['run_directory']
print(profile_path)
print(run_directory)



