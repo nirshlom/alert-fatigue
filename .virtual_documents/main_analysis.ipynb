#!pip install tableone
import pandas as pd
from tableone import TableOne
import warnings

#import ace_tools as tools
warnings.filterwarnings("ignore")
pd.set_option('display.max_rows', 200)  # Set to 200 or more, higher than 105
pd.set_option('display.max_columns', None)  # Show all columns if needed


#TODO: Load the data: df_main_active_adult.csv, this order level data only active adults
df_main_active_adult = pd.read_csv('alert_analysis/data/main_data_2022/df_main_active_adult_py_version.csv')
print(df_main_active_adult.shape)
df_main_active_adult.head()


df_main_active_adult.columns


#TODO: load src_tbl1_active_by_patient_gb, this data in patient level
src_tbl1_active_by_patient_gb = pd.read_csv('alert_analysis/data/src_tbl1_active_by_patient_gb.csv')
print(src_tbl1_active_by_patient_gb.shape)
src_tbl1_active_by_patient_gb.head()


src_active_patients_merged = pd.read_csv('alert_analysis/data/src_active_patients_merged.csv')
print(src_active_patients_merged.shape)
src_active_patients_merged.head()


src_tbl1_active_by_patient_gb.columns





# Define categorical and continuous variables
categorical_vars = [
    "age_cat",
    "hospitalname_en_cat_cnt"
]

continuous_vars = [
    "age_num",
    "survivalrate10years_age_adj_mean",
    "nummedamount_calc_mean",
    "hosp_days_mean",
    "chronic_num_calc_mean",
    "medical_record_cat_cnt"
]

# Generate summary table
table = TableOne(
    src_tbl1_active_by_patient_gb,
    categorical=categorical_vars,
    groupby="gender_text_en_cat",
    continuous=continuous_vars,
    pval=True,  # Add p-values
    missing=True  # Show missing values
)

# Print the table
print(table.tabulate(tablefmt="pipe"))





alert_counts = src_active_patients_merged['alert_type'].value_counts()
alert_df = alert_counts.to_frame().reset_index()
alert_df.columns = ['alert_type', 'count']
alert_df['fraction'] = alert_df['count'] / alert_df['count'].sum()
alert_df
#tools.display_dataframe_to_user(name="Alert Type Distribution", dataframe=alert_df)





categorical_vars = [
    "hospitalname_en_cat",
    "unitname_cat",
    "atc_group",
    "orderorigin",
    "shifttype_cat",
    "dayen_cat",
    "dam_cat",
    "ddi_contraindicated_drug_combination_cat",
    "ddi_moderate_interaction_cat",
    "ddi_severe_interaction_cat",
    "drc_cat",
    "drc - message 1",
    "technical_alerts_cat",
    "renal_alerts_cat",
    "alert_status",
    "alert_type",
    "responsetype_cat",
    "sectortext_en_cat"
]

categorical_vars = [
    "hospitalname_en_cat",
    "unitname_cat",
    "atc_group",
    "orderorigin",
    "shifttype_cat",
    "dayen_cat",
    "dam_cat",
    "ddi_contraindicated_drug_combination_cat",
    "ddi_moderate_interaction_cat",
    "ddi_severe_interaction_cat",
    "drc_cat",
    "drc - message 1",
    "technical_alerts_cat",
    "renal_alerts_cat",
    "alert_status",
    "alert_type",
    "responsetype_cat",
    "sectortext_en_cat"
]

src_tbl1_active_by_order_id = src_active_patients_merged[categorical_vars + continuous_vars]

table_response_type = TableOne(
    src_tbl1_active_by_order_id,
    categorical=categorical_vars,
    groupby="responsetype_cat",
    continuous=continuous_vars,
    pval=True,  # Add p-values
    missing=True  # Show missing values
)


#print(table_response_type.tabulate(tablefmt="pipe"))
table_response_type.head(105)





# table_atc_group = TableOne(
#     src_tbl1_active_by_order_id,
#     categorical=categorical_vars,
#     groupby="atc_group",
#     continuous=continuous_vars,
#     pval=True,  # Add p-values
#     missing=True  # Show missing values
# )


#print(table_atc_group.tabulate(tablefmt="pipe"))
# table_atc_group.head(105)








##TODO: get the total number of alerts, overridden alerts, and not overridden alerts
##TODO: plot the distribution of overridden alerts by alert type





duplicates = df_main_active_adult['id1'].value_counts().sort_values(ascending=False)
duplicates.head()


test_df = df_main_active_adult.loc[df_main_active_adult['id1'].isin(duplicates.index[duplicates > 1])]
test_df.head(20)



