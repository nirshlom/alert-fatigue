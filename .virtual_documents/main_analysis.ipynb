#!pip install tableone
import pandas as pd
from tableone import TableOne
import warnings

#import ace_tools as tools
warnings.filterwarnings("ignore")
pd.set_option('display.max_rows', 200)  # Set to 200 or more, higher than 105
pd.set_option('display.max_columns', None)  # Show all columns if needed


#TODO: Load the data: df_main_active_adult.csv, this order level data only active adults
df_main_active_adult = pd.read_csv('alert_analysis/data/main_data_2022/df_main_active_adult_renamed.csv')
print(df_main_active_adult.shape)
df_main_active_adult.head(10)





df_main_active_adult.columns.to_list()


df_main_active_adult['chronic_diagnosis'].value_counts()


# count_columns = [col for col in df_main_active_adult.columns if col.endswith('_count')]
# count_columns


df_main_active_adult.loc[df_main_active_adult['id1'] == 4969][[
        'id1',
         'medical_record', # patient ID
    'order_origin',
    'drug_order_id',
        'gender',  # renamed from Gender_Text_EN_cat
        'age',  # renamed from AGE_num
        'age_category',  # renamed from Age_cat
        'unit_category',  # renamed from UnitName_cat
        'chronic_diagnosis',  # renamed from DiagnosisInReception
        'hospital_diagnosis',  # renamed from HospDiagnosis
        'chronic_med_count',  # renamed from chronic_num_calc
        'alert_type',  # renamed from Alert_type
        'response_type',  # renamed from ResponseType_cat
        'response_reasons_other_text',  # renamed from Other_Text
        'dosing_frequency',  
        'dosing_single_dose',  
        'dosing_max_daily_dose',  
        'neo_dosing_frequency',  
        'neo_dosing_single_dose',  
        'neo_dosing_max_daily_dose',  
        'hospital_name',
    'myocardial_count',
    'heart_failure_count',
    'pvd_count',
    'pvd_group_count',
    'atc_count',
    'drug_atc',
    'chronic_drug_count',
    'diabetes_count',
    'hospital_days'
    ]]











categorical_vars = [
    "hospital_name",
    "unit_category",
    #"atc_group",
    "order_origin",
    "shift_type",
    "day",
    "allergy",
    "ddi_contraindicated_severity",
    "ddi_moderate_severity",
    "ddi_severe_severity",
    "dosing",
    "dosing_message",
    "technical_alerts",
    "renal_alerts",
    "alert_status",
    "alert_type",
    "sector"
]

continuous_vars = ['age',
                   'survival_rate_10y_age_adj',
                   'charlson_score_age_adj',
                   'medication_orders_hospatalization',
                   'hospital_days',
                   'chronic_med_count']

table_response_type = TableOne(
   df_main_active_adult,
   categorical=categorical_vars,
   groupby="response_type",
   continuous=continuous_vars,
   pval=True,   # Add p-values
   missing=True  # Show missing values
)


#print(table_response_type.tabulate(tablefmt="pipe"))
table_response_type.head(105)








# table_atc_group = TableOne(
#     src_tbl1_active_by_order_id,
#     categorical=categorical_vars,
#     groupby="atc_group",
#     continuous=continuous_vars,
#     pval=True,  # Add p-values
#     missing=True  # Show missing values
# )


#print(table_atc_group.tabulate(tablefmt="pipe"))
# table_atc_group.head(105)








##TODO: get the total number of alerts, overridden alerts, and not overridden alerts
##TODO: plot the distribution of overridden alerts by alert type





duplicates = df_main_active_adult['id1'].value_counts().sort_values(ascending=False)
duplicates.head()


test_df = df_main_active_adult.loc[df_main_active_adult['id1'].isin(duplicates.index[duplicates > 1])]
test_df.head(20)





from tableone import TableOne

# Define categorical variables
categorical_vars = [
    "dosing_single_dose",
    "dosing_frequency",
    "dosing_max_daily_dose",
    "renal_alerts",
    "ddi_contraindicated_severity",
    "ddi_severe_severity",
    "ddi_moderate_severity",
    "allergy",
    "technical_alerts"
]

# Define continuous variable if you want to group by
# Make sure this column exists in your DataFrame and is numeric
continuous_vars = ["date_time_prescribe"]  # example placeholder  #maybe better instead of "date_time_prescribe" using split for month because date is not continous 

# Generate summary table
alert_table = TableOne(
    df_main_active_adult,
    categorical=categorical_vars,
    continuous=continuous_vars,
    groupby="date_time_prescribe",
    pval=False,
    missing=True
)

# Print the table
print(alert_table.tabulate(tablefmt="pipe"))



#previous one
    #alert_table = TableOne(
    # df_main_active_adult,
    # categorical=categorical_vars,
    #continuous=[],
    #groupby="date_time_prescribe",
    #pval=False,  # Add p-values
    #missing=True  # Show missing values
#)

# Print the table
#print(alert_table.tabulate(tablefmt="pipe"))


print(df_main_active_adult['date_time_prescribe'].dtype)


df_main_active_adult.columns.to_list()


test_df = pd.read_csv('alert_analysis/data/main_data_2022/df_main_active_adult_py_version.csv')
test_df.shape


test_df['Hospital_cat'].value_counts()


test_df['Hospital_cat'].dtype


test_df['ATC_GROUP']



