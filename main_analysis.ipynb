{
 "cells": [
  {
   "metadata": {},
   "cell_type": "code",
   "outputs": [],
   "execution_count": null,
   "source": [
    "#!pip install tableone\n",
    "import pandas as pd\n",
    "from tableone import TableOne\n",
    "import warnings\n",
    "\n",
    "#import ace_tools as tools\n",
    "warnings.filterwarnings(\"ignore\")\n",
    "pd.set_option('display.max_rows', 200)  # Set to 200 or more, higher than 105\n",
    "pd.set_option('display.max_columns', None)  # Show all columns if needed"
   ],
   "id": "d23ba59c1427f51e"
  },
  {
   "metadata": {},
   "cell_type": "code",
   "outputs": [],
   "execution_count": null,
   "source": [
    "#TODO: Load the data: df_main_active_adult.csv, this order level data only active adults\n",
    "df_main_active_adult = pd.read_csv('alert_analysis/data/main_data_2022/df_main_active_adult_py_version.csv')\n",
    "print(df_main_active_adult.shape)\n",
    "df_main_active_adult.head()"
   ],
   "id": "ea49d685b8fbeac1"
  },
  {
   "metadata": {},
   "cell_type": "code",
   "outputs": [],
   "execution_count": null,
   "source": [
    "#TODO: load src_tbl1_active_by_patient_gb, this data in patient level\n",
    "src_tbl1_active_by_patient_gb = pd.read_csv('alert_analysis/data/src_tbl1_active_by_patient_gb.csv')\n",
    "print(src_tbl1_active_by_patient_gb.shape)\n",
    "src_tbl1_active_by_patient_gb.head()"
   ],
   "id": "2fcd930a9ca982e6"
  },
  {
   "metadata": {},
   "cell_type": "code",
   "outputs": [],
   "execution_count": null,
   "source": [
    "src_active_patients_merged = pd.read_csv('alert_analysis/data/src_active_patients_merged.csv')\n",
    "print(src_active_patients_merged.shape)\n",
    "src_active_patients_merged.head()"
   ],
   "id": "3082ba16075fc10a"
  },
  {
   "metadata": {},
   "cell_type": "code",
   "outputs": [],
   "execution_count": null,
   "source": "#src_tbl1_active_by_patient_gb.columns",
   "id": "30ddf4a56c8ed148"
  },
  {
   "metadata": {},
   "cell_type": "markdown",
   "source": [
    "## Part 1: Create a TableOne Patients Characteristics (by Gender)\n",
    "Patient level data"
   ],
   "id": "2dc2caa6d1bed882"
  },
  {
   "metadata": {},
   "cell_type": "code",
   "outputs": [],
   "execution_count": null,
   "source": [
    "# Define categorical and continuous variables\n",
    "categorical_vars = [\n",
    "    \"age_cat\",\n",
    "    \"hospitalname_en_cat_cnt\"\n",
    "]\n",
    "\n",
    "continuous_vars = [\n",
    "    \"age_num\",\n",
    "    \"survivalrate10years_age_adj_mean\",\n",
    "    \"nummedamount_calc_mean\",\n",
    "    \"hosp_days_mean\",\n",
    "    \"chronic_num_calc_mean\",\n",
    "    \"medical_record_cat_cnt\"\n",
    "]\n",
    "\n",
    "# Generate summary table\n",
    "table = TableOne(\n",
    "    src_tbl1_active_by_patient_gb,\n",
    "    categorical=categorical_vars,\n",
    "    groupby=\"gender_text_en_cat\",\n",
    "    continuous=continuous_vars,\n",
    "    pval=True,  # Add p-values\n",
    "    missing=True  # Show missing values\n",
    ")\n",
    "\n",
    "# Print the table\n",
    "print(table.tabulate(tablefmt=\"pipe\"))"
   ],
   "id": "aff8e5537a8d3290"
  },
  {
   "metadata": {},
   "cell_type": "markdown",
   "source": "## Part 2: Alert analysis",
   "id": "4b206f7478ea56e5"
  },
  {
   "metadata": {},
   "cell_type": "code",
   "outputs": [],
   "execution_count": null,
   "source": [
    "alert_counts = src_active_patients_merged['alert_type'].value_counts()\n",
    "alert_df = alert_counts.to_frame().reset_index()\n",
    "alert_df.columns = ['alert_type', 'count']\n",
    "alert_df['fraction'] = alert_df['count'] / alert_df['count'].sum()\n",
    "alert_df\n",
    "#tools.display_dataframe_to_user(name=\"Alert Type Distribution\", dataframe=alert_df)"
   ],
   "id": "e2886e1ad6f0a769"
  },
  {
   "metadata": {},
   "cell_type": "markdown",
   "source": "## Table summary  order_id by ATC_GROUP (Active mode)",
   "id": "f50b0b7c672a1e2d"
  },
  {
   "metadata": {},
   "cell_type": "code",
   "outputs": [],
   "execution_count": null,
   "source": [
    "categorical_vars = [\n",
    "    \"hospitalname_en_cat\",\n",
    "    \"unitname_cat\",\n",
    "    \"atc_group\",\n",
    "    \"orderorigin\",\n",
    "    \"shifttype_cat\",\n",
    "    \"dayen_cat\",\n",
    "    \"dam_cat\",\n",
    "    \"ddi_contraindicated_drug_combination_cat\",\n",
    "    \"ddi_moderate_interaction_cat\",\n",
    "    \"ddi_severe_interaction_cat\",\n",
    "    \"drc_cat\",\n",
    "    \"drc - message 1\",\n",
    "    \"technical_alerts_cat\",\n",
    "    \"renal_alerts_cat\",\n",
    "    \"alert_status\",\n",
    "    \"alert_type\",\n",
    "    \"responsetype_cat\",\n",
    "    \"sectortext_en_cat\"\n",
    "]\n",
    "\n",
    "categorical_vars = [\n",
    "    \"hospitalname_en_cat\",\n",
    "    \"unitname_cat\",\n",
    "    \"atc_group\",\n",
    "    \"orderorigin\",\n",
    "    \"shifttype_cat\",\n",
    "    \"dayen_cat\",\n",
    "    \"dam_cat\",\n",
    "    \"ddi_contraindicated_drug_combination_cat\",\n",
    "    \"ddi_moderate_interaction_cat\",\n",
    "    \"ddi_severe_interaction_cat\",\n",
    "    \"drc_cat\",\n",
    "    \"drc - message 1\",\n",
    "    \"technical_alerts_cat\",\n",
    "    \"renal_alerts_cat\",\n",
    "    \"alert_status\",\n",
    "    \"alert_type\",\n",
    "    \"responsetype_cat\",\n",
    "    \"sectortext_en_cat\"\n",
    "]\n",
    "\n",
    "src_tbl1_active_by_order_id = src_active_patients_merged[categorical_vars + continuous_vars]\n",
    "\n",
    "table_response_type = TableOne(\n",
    "    src_tbl1_active_by_order_id,\n",
    "    categorical=categorical_vars,\n",
    "    groupby=\"responsetype_cat\",\n",
    "    continuous=continuous_vars,\n",
    "    pval=True,  # Add p-values\n",
    "    missing=True  # Show missing values\n",
    ")"
   ],
   "id": "ac02ad986e097f87"
  },
  {
   "metadata": {},
   "cell_type": "code",
   "outputs": [],
   "execution_count": null,
   "source": [
    "#print(table_response_type.tabulate(tablefmt=\"pipe\"))\n",
    "table_response_type.head(105)"
   ],
   "id": "fb7e5bab84e45f15"
  },
  {
   "metadata": {},
   "cell_type": "markdown",
   "source": "## Table summary  order_id by ATC_GROUP (Active mode)",
   "id": "d3c267ff85078ce7"
  },
  {
   "metadata": {},
   "cell_type": "code",
   "outputs": [],
   "execution_count": null,
   "source": [
    "# table_atc_group = TableOne(\n",
    "#     src_tbl1_active_by_order_id,\n",
    "#     categorical=categorical_vars,\n",
    "#     groupby=\"atc_group\",\n",
    "#     continuous=continuous_vars,\n",
    "#     pval=True,  # Add p-values\n",
    "#     missing=True  # Show missing values\n",
    "# )"
   ],
   "id": "8bd1d59c4f4aaf3c"
  },
  {
   "metadata": {},
   "cell_type": "code",
   "outputs": [],
   "execution_count": null,
   "source": [
    "#print(table_atc_group.tabulate(tablefmt=\"pipe\"))\n",
    "# table_atc_group.head(105)"
   ],
   "id": "5b57045ae381617"
  },
  {
   "metadata": {},
   "cell_type": "markdown",
   "source": "## Alert analysis",
   "id": "85e86e88b5cc9fc6"
  },
  {
   "metadata": {},
   "cell_type": "markdown",
   "source": "## Alert override analysis",
   "id": "e2c997e32e11516a"
  },
  {
   "metadata": {},
   "cell_type": "code",
   "outputs": [],
   "execution_count": null,
   "source": [
    "##TODO: get the total number of alerts, overridden alerts, and not overridden alerts\n",
    "##TODO: plot the distribution of overridden alerts by alert type"
   ],
   "id": "a640d3ae68232e71"
  },
  {
   "metadata": {},
   "cell_type": "markdown",
   "source": "## Analysis of Duplicates",
   "id": "e512268fa0dc5c8b"
  },
  {
   "metadata": {},
   "cell_type": "code",
   "outputs": [],
   "execution_count": null,
   "source": [
    "duplicates = df_main_active_adult['id1'].value_counts().sort_values(ascending=False)\n",
    "duplicates.head()"
   ],
   "id": "a8e1ea7bc8fd44df"
  },
  {
   "metadata": {},
   "cell_type": "code",
   "outputs": [],
   "execution_count": null,
   "source": [
    "test_df = df_main_active_adult.loc[df_main_active_adult['id1'].isin(duplicates.index[duplicates > 1])]\n",
    "test_df.head(20)"
   ],
   "id": "96dfd98f74af34e8"
  },
  {
   "metadata": {},
   "cell_type": "code",
   "outputs": [],
   "execution_count": null,
   "source": "",
   "id": "782b1cf45c9122a5"
  }
 ],
 "metadata": {
  "kernelspec": {
   "display_name": "Python 3 (ipykernel)",
   "language": "python",
   "name": "python3"
  },
  "language_info": {
   "codemirror_mode": {
    "name": "ipython",
    "version": 3
   },
   "file_extension": ".py",
   "mimetype": "text/x-python",
   "name": "python",
   "nbconvert_exporter": "python",
   "pygments_lexer": "ipython3",
   "version": "3.13.1"
  }
 },
 "nbformat": 4,
 "nbformat_minor": 5
}
