{
 "cells": [
  {
   "cell_type": "code",
   "id": "initial_id",
   "metadata": {
    "collapsed": true,
    "ExecuteTime": {
     "end_time": "2025-03-10T15:43:17.864466Z",
     "start_time": "2025-03-10T15:43:16.946470Z"
    }
   },
   "source": [
    "import pandas as pd\n",
    "from tableone import TableOne"
   ],
   "outputs": [],
   "execution_count": 1
  },
  {
   "metadata": {
    "ExecuteTime": {
     "end_time": "2025-03-05T12:31:53.967099Z",
     "start_time": "2025-03-05T12:31:53.824188Z"
    }
   },
   "cell_type": "code",
   "source": [
    "df = pd.read_csv('data/df_sample_main_flat.csv')\n",
    "df.shape\n",
    "#df.columns"
   ],
   "id": "9084ffbd0cee371e",
   "outputs": [
    {
     "data": {
      "text/plain": [
       "(10000, 66)"
      ]
     },
     "execution_count": 5,
     "metadata": {},
     "output_type": "execute_result"
    }
   ],
   "execution_count": 5
  },
  {
   "metadata": {
    "ExecuteTime": {
     "end_time": "2025-03-05T12:32:27.299089Z",
     "start_time": "2025-03-05T12:32:26.629562Z"
    }
   },
   "cell_type": "code",
   "source": [
    "df_main_active_adult = df[\n",
    "    (df['SeverityLevelToStopOrder_cat'] != \"Silence Mode\") &\n",
    "    (df['adult_child_cat'] == \"adult\") &\n",
    "    (~df['Hospital_cat'].isin([\"243\", \"113\", \"29\"])) &\n",
    "    (~df['UnitName_cat'].isin([\"Day_care\", \"ICU\", \"Pediatric\", \"Rehabilitation\"]))\n",
    "]\n",
    "\n",
    "df_main_active_adult.shape"
   ],
   "id": "76f03c15f76ff7d8",
   "outputs": [
    {
     "ename": "KeyError",
     "evalue": "'SeverityLevelToStopOrder_cat'",
     "output_type": "error",
     "traceback": [
      "\u001B[31m---------------------------------------------------------------------------\u001B[39m",
      "\u001B[31mKeyError\u001B[39m                                  Traceback (most recent call last)",
      "\u001B[36mFile \u001B[39m\u001B[32m/opt/anaconda3/envs/alert_analysis_ud/lib/python3.11/site-packages/pandas/core/indexes/base.py:3805\u001B[39m, in \u001B[36mIndex.get_loc\u001B[39m\u001B[34m(self, key)\u001B[39m\n\u001B[32m   3804\u001B[39m \u001B[38;5;28;01mtry\u001B[39;00m:\n\u001B[32m-> \u001B[39m\u001B[32m3805\u001B[39m     \u001B[38;5;28;01mreturn\u001B[39;00m \u001B[38;5;28;43mself\u001B[39;49m\u001B[43m.\u001B[49m\u001B[43m_engine\u001B[49m\u001B[43m.\u001B[49m\u001B[43mget_loc\u001B[49m\u001B[43m(\u001B[49m\u001B[43mcasted_key\u001B[49m\u001B[43m)\u001B[49m\n\u001B[32m   3806\u001B[39m \u001B[38;5;28;01mexcept\u001B[39;00m \u001B[38;5;167;01mKeyError\u001B[39;00m \u001B[38;5;28;01mas\u001B[39;00m err:\n",
      "\u001B[36mFile \u001B[39m\u001B[32mindex.pyx:167\u001B[39m, in \u001B[36mpandas._libs.index.IndexEngine.get_loc\u001B[39m\u001B[34m()\u001B[39m\n",
      "\u001B[36mFile \u001B[39m\u001B[32mindex.pyx:196\u001B[39m, in \u001B[36mpandas._libs.index.IndexEngine.get_loc\u001B[39m\u001B[34m()\u001B[39m\n",
      "\u001B[36mFile \u001B[39m\u001B[32mpandas/_libs/hashtable_class_helper.pxi:7081\u001B[39m, in \u001B[36mpandas._libs.hashtable.PyObjectHashTable.get_item\u001B[39m\u001B[34m()\u001B[39m\n",
      "\u001B[36mFile \u001B[39m\u001B[32mpandas/_libs/hashtable_class_helper.pxi:7089\u001B[39m, in \u001B[36mpandas._libs.hashtable.PyObjectHashTable.get_item\u001B[39m\u001B[34m()\u001B[39m\n",
      "\u001B[31mKeyError\u001B[39m: 'SeverityLevelToStopOrder_cat'",
      "\nThe above exception was the direct cause of the following exception:\n",
      "\u001B[31mKeyError\u001B[39m                                  Traceback (most recent call last)",
      "\u001B[36mCell\u001B[39m\u001B[36m \u001B[39m\u001B[32mIn[6]\u001B[39m\u001B[32m, line 2\u001B[39m\n\u001B[32m      1\u001B[39m df_main_active_adult = df[\n\u001B[32m----> \u001B[39m\u001B[32m2\u001B[39m     (\u001B[43mdf\u001B[49m\u001B[43m[\u001B[49m\u001B[33;43m'\u001B[39;49m\u001B[33;43mSeverityLevelToStopOrder_cat\u001B[39;49m\u001B[33;43m'\u001B[39;49m\u001B[43m]\u001B[49m != \u001B[33m\"\u001B[39m\u001B[33mSilence Mode\u001B[39m\u001B[33m\"\u001B[39m) &\n\u001B[32m      3\u001B[39m     (df[\u001B[33m'\u001B[39m\u001B[33madult_child_cat\u001B[39m\u001B[33m'\u001B[39m] == \u001B[33m\"\u001B[39m\u001B[33madult\u001B[39m\u001B[33m\"\u001B[39m) &\n\u001B[32m      4\u001B[39m     (~df[\u001B[33m'\u001B[39m\u001B[33mHospital_cat\u001B[39m\u001B[33m'\u001B[39m].isin([\u001B[33m\"\u001B[39m\u001B[33m243\u001B[39m\u001B[33m\"\u001B[39m, \u001B[33m\"\u001B[39m\u001B[33m113\u001B[39m\u001B[33m\"\u001B[39m, \u001B[33m\"\u001B[39m\u001B[33m29\u001B[39m\u001B[33m\"\u001B[39m])) &\n\u001B[32m      5\u001B[39m     (~df[\u001B[33m'\u001B[39m\u001B[33mUnitName_cat\u001B[39m\u001B[33m'\u001B[39m].isin([\u001B[33m\"\u001B[39m\u001B[33mDay_care\u001B[39m\u001B[33m\"\u001B[39m, \u001B[33m\"\u001B[39m\u001B[33mICU\u001B[39m\u001B[33m\"\u001B[39m, \u001B[33m\"\u001B[39m\u001B[33mPediatric\u001B[39m\u001B[33m\"\u001B[39m, \u001B[33m\"\u001B[39m\u001B[33mRehabilitation\u001B[39m\u001B[33m\"\u001B[39m]))\n\u001B[32m      6\u001B[39m ]\n\u001B[32m      8\u001B[39m df_main_active_adult.shape\n",
      "\u001B[36mFile \u001B[39m\u001B[32m/opt/anaconda3/envs/alert_analysis_ud/lib/python3.11/site-packages/pandas/core/frame.py:4102\u001B[39m, in \u001B[36mDataFrame.__getitem__\u001B[39m\u001B[34m(self, key)\u001B[39m\n\u001B[32m   4100\u001B[39m \u001B[38;5;28;01mif\u001B[39;00m \u001B[38;5;28mself\u001B[39m.columns.nlevels > \u001B[32m1\u001B[39m:\n\u001B[32m   4101\u001B[39m     \u001B[38;5;28;01mreturn\u001B[39;00m \u001B[38;5;28mself\u001B[39m._getitem_multilevel(key)\n\u001B[32m-> \u001B[39m\u001B[32m4102\u001B[39m indexer = \u001B[38;5;28;43mself\u001B[39;49m\u001B[43m.\u001B[49m\u001B[43mcolumns\u001B[49m\u001B[43m.\u001B[49m\u001B[43mget_loc\u001B[49m\u001B[43m(\u001B[49m\u001B[43mkey\u001B[49m\u001B[43m)\u001B[49m\n\u001B[32m   4103\u001B[39m \u001B[38;5;28;01mif\u001B[39;00m is_integer(indexer):\n\u001B[32m   4104\u001B[39m     indexer = [indexer]\n",
      "\u001B[36mFile \u001B[39m\u001B[32m/opt/anaconda3/envs/alert_analysis_ud/lib/python3.11/site-packages/pandas/core/indexes/base.py:3812\u001B[39m, in \u001B[36mIndex.get_loc\u001B[39m\u001B[34m(self, key)\u001B[39m\n\u001B[32m   3807\u001B[39m     \u001B[38;5;28;01mif\u001B[39;00m \u001B[38;5;28misinstance\u001B[39m(casted_key, \u001B[38;5;28mslice\u001B[39m) \u001B[38;5;129;01mor\u001B[39;00m (\n\u001B[32m   3808\u001B[39m         \u001B[38;5;28misinstance\u001B[39m(casted_key, abc.Iterable)\n\u001B[32m   3809\u001B[39m         \u001B[38;5;129;01mand\u001B[39;00m \u001B[38;5;28many\u001B[39m(\u001B[38;5;28misinstance\u001B[39m(x, \u001B[38;5;28mslice\u001B[39m) \u001B[38;5;28;01mfor\u001B[39;00m x \u001B[38;5;129;01min\u001B[39;00m casted_key)\n\u001B[32m   3810\u001B[39m     ):\n\u001B[32m   3811\u001B[39m         \u001B[38;5;28;01mraise\u001B[39;00m InvalidIndexError(key)\n\u001B[32m-> \u001B[39m\u001B[32m3812\u001B[39m     \u001B[38;5;28;01mraise\u001B[39;00m \u001B[38;5;167;01mKeyError\u001B[39;00m(key) \u001B[38;5;28;01mfrom\u001B[39;00m\u001B[38;5;250m \u001B[39m\u001B[34;01merr\u001B[39;00m\n\u001B[32m   3813\u001B[39m \u001B[38;5;28;01mexcept\u001B[39;00m \u001B[38;5;167;01mTypeError\u001B[39;00m:\n\u001B[32m   3814\u001B[39m     \u001B[38;5;66;03m# If we have a listlike key, _check_indexing_error will raise\u001B[39;00m\n\u001B[32m   3815\u001B[39m     \u001B[38;5;66;03m#  InvalidIndexError. Otherwise we fall through and re-raise\u001B[39;00m\n\u001B[32m   3816\u001B[39m     \u001B[38;5;66;03m#  the TypeError.\u001B[39;00m\n\u001B[32m   3817\u001B[39m     \u001B[38;5;28mself\u001B[39m._check_indexing_error(key)\n",
      "\u001B[31mKeyError\u001B[39m: 'SeverityLevelToStopOrder_cat'"
     ]
    }
   ],
   "execution_count": 6
  },
  {
   "metadata": {},
   "cell_type": "markdown",
   "source": [
    "## Part 1: Create a TableOne Patients Characteristics (by Gender)\n",
    "\n"
   ],
   "id": "2ae3a1394c992cb4"
  },
  {
   "metadata": {
    "ExecuteTime": {
     "end_time": "2025-03-05T12:07:57.828865Z",
     "start_time": "2025-03-05T12:07:57.690179Z"
    }
   },
   "cell_type": "code",
   "source": [
    "# Define the columns to include in the table\n",
    "columns = ['age_num', 'age_cat']\n",
    "\n",
    "# Define which variables are categorical\n",
    "categorical = ['age_cat']\n",
    "\n",
    "# Specify non-normally distributed variables to display medians and IQR instead of mean (SD)\n",
    "nonnormal = ['age_num']\n",
    "\n",
    "# Create the TableOne object stratified by the 'treatment' group\n",
    "table1 = TableOne(df, columns=columns, categorical=categorical, groupby='gender_text_en_cat',\n",
    "                  nonnormal=nonnormal, missing=False)\n",
    "# Print the table in Markdown format (pipe format)\n",
    "print(table1.tabulate(tablefmt=\"pipe\"))\n",
    "\n",
    "#table1.to_csv(\"tableone_summary.csv\")"
   ],
   "id": "eb2efcd12bfe69f9",
   "outputs": [
    {
     "name": "stdout",
     "output_type": "stream",
     "text": [
      "|                         |       | Overall          | FEMALE           | MALE             |\n",
      "|:------------------------|:------|:-----------------|:-----------------|:-----------------|\n",
      "| n                       |       | 10000            | 5060             | 4940             |\n",
      "| age_num, median [Q1,Q3] |       | 67.0 [43.0,79.0] | 66.0 [36.0,80.0] | 68.0 [51.0,78.0] |\n",
      "| age_cat, n (%)          | 6-10  | 147 (1.5)        | 62 (1.2)         | 85 (1.7)         |\n",
      "|                         | 1-5   | 322 (3.2)        | 148 (2.9)        | 174 (3.5)        |\n",
      "|                         | 11-15 | 126 (1.3)        | 48 (0.9)         | 78 (1.6)         |\n",
      "|                         | 16-18 | 123 (1.2)        | 54 (1.1)         | 69 (1.4)         |\n",
      "|                         | 19-30 | 832 (8.3)        | 601 (11.9)       | 231 (4.7)        |\n",
      "|                         | 31-44 | 1047 (10.5)      | 731 (14.4)       | 316 (6.4)        |\n",
      "|                         | 45-55 | 870 (8.7)        | 375 (7.4)        | 495 (10.0)       |\n",
      "|                         | 56-64 | 1065 (10.7)      | 411 (8.1)        | 654 (13.2)       |\n",
      "|                         | 65-75 | 2310 (23.1)      | 984 (19.4)       | 1326 (26.8)      |\n",
      "|                         | 76-85 | 1965 (19.7)      | 945 (18.7)       | 1020 (20.6)      |\n",
      "|                         | < 1   | 22 (0.2)         | 6 (0.1)          | 16 (0.3)         |\n",
      "|                         | > 85  | 1169 (11.7)      | 694 (13.7)       | 475 (9.6)        |\n",
      "|                         | None  | 2 (0.0)          | 1 (0.0)          | 1 (0.0)          |\n"
     ]
    }
   ],
   "execution_count": 4
  },
  {
   "metadata": {
    "ExecuteTime": {
     "end_time": "2025-03-05T12:06:49.500358Z",
     "start_time": "2025-03-05T12:06:49.482423Z"
    }
   },
   "cell_type": "code",
   "source": "df['gender_text_en_cat'].value_counts()",
   "id": "132980183b9c8626",
   "outputs": [
    {
     "data": {
      "text/plain": [
       "gender_text_en_cat\n",
       "FEMALE    5060\n",
       "MALE      4940\n",
       "Name: count, dtype: int64"
      ]
     },
     "execution_count": 3,
     "metadata": {},
     "output_type": "execute_result"
    }
   ],
   "execution_count": 3
  },
  {
   "metadata": {},
   "cell_type": "code",
   "outputs": [],
   "execution_count": null,
   "source": "",
   "id": "905b14bd8caf5e28"
  }
 ],
 "metadata": {
  "kernelspec": {
   "display_name": "Python 3",
   "language": "python",
   "name": "python3"
  },
  "language_info": {
   "codemirror_mode": {
    "name": "ipython",
    "version": 2
   },
   "file_extension": ".py",
   "mimetype": "text/x-python",
   "name": "python",
   "nbconvert_exporter": "python",
   "pygments_lexer": "ipython2",
   "version": "2.7.6"
  }
 },
 "nbformat": 4,
 "nbformat_minor": 5
}
