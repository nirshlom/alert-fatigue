{
 "cells": [
  {
   "cell_type": "code",
   "execution_count": 2,
   "id": "6b83bca3-a0a0-4117-bde5-f0e296c1edb2",
   "metadata": {},
   "outputs": [],
   "source": [
    "import sys\n",
    "import os\n",
    "from pathlib import Path\n",
    "\n",
    "# # Add the parent directory to the path to allow imports\n",
    "# sys.path.append(str(Path(__file__).parent.parent))\n",
    "\n",
    "from model_pipeline.config import get_config\n",
    "from model_pipeline.pipeline import run_full_training, run_preprocessing_only"
   ]
  },
  {
   "cell_type": "markdown",
   "id": "e656238c-221e-4475-88b9-1a4d4c40965a",
   "metadata": {},
   "source": [
    "## "
   ]
  },
  {
   "cell_type": "code",
   "execution_count": 3,
   "id": "44fcdd24-e0af-4e9e-a22c-ac57f90081c5",
   "metadata": {},
   "outputs": [
    {
     "name": "stdout",
     "output_type": "stream",
     "text": [
      "✓ Configuration validated successfully!\n",
      "  - Input: ../alert_analysis/data/main_data_2022/df_main_active_adult_renamed_clean_sample_10pct.csv\n",
      "  - Features: 6 columns\n",
      "  - Data split: 70% train, 15% eval, 15% test\n",
      "  - Output: model_pipeline/outputs\n",
      "Input CSV: ../alert_analysis/data/main_data_2022/df_main_active_adult_renamed_clean_sample_10pct.csv\n",
      "Date Column: time_prescribing_order\n",
      "Target Column: alert_status_binary\n",
      "Features: ['age', 'gender', 'hospital_days', 'charlson_score', 'shift_type', 'unit_category']\n"
     ]
    }
   ],
   "source": [
    "# Get centralized configuration\n",
    "config = get_config()\n",
    "    \n",
    "# Display configuration\n",
    "print(f\"Input CSV: {config['input_csv_path']}\")\n",
    "print(f\"Date Column: {config['date_column']}\")\n",
    "print(f\"Target Column: {config['target_column']}\")\n",
    "print(f\"Features: {config['feature_columns']}\")"
   ]
  },
  {
   "cell_type": "code",
   "execution_count": 5,
   "id": "b52451df-de98-427f-88cd-0fa13566d4ad",
   "metadata": {},
   "outputs": [
    {
     "data": {
      "text/plain": [
       "'../alert_analysis/data/main_data_2022/df_main_active_adult_renamed_clean_sample_10pct.csv'"
      ]
     },
     "execution_count": 5,
     "metadata": {},
     "output_type": "execute_result"
    }
   ],
   "source": [
    "# get file path\n",
    "file_path = config['input_csv_path']\n",
    "file_path"
   ]
  },
  {
   "cell_type": "markdown",
   "id": "2aeeb007-f2cf-4f2a-a4ba-7d1d7d3dc703",
   "metadata": {},
   "source": [
    "## Part 2: run pre-processing\n",
    "\n",
    "- Split data\n",
    "- prepere data\n",
    "- run profiling "
   ]
  },
  {
   "cell_type": "code",
   "execution_count": 6,
   "id": "60df07df-a78e-492f-b01b-df7db8acd157",
   "metadata": {},
   "outputs": [
    {
     "name": "stdout",
     "output_type": "stream",
     "text": [
      "Running preprocessing pipeline...\n",
      "Loading data...\n",
      "✓ Data loaded: 250,658 rows, 8 columns\n",
      "\n",
      "Splitting data...\n",
      "✓ Data split: Train=175,460, Eval=37,598, Test=37,600\n",
      "\n",
      "Preprocessing data...\n",
      "  Preprocessing configuration:\n",
      "    - Impute numeric: True\n",
      "    - Scale numeric: False\n",
      "    - Rare category threshold: 0.01\n",
      "  Fitting preprocessor on training data...\n",
      "  Preprocessing details:\n",
      "    - Numeric columns: 3\n",
      "    - Categorical columns: 3\n",
      "    - Numeric imputation applied to: age, hospital_days, charlson_score\n",
      "    - No missing values found in numeric columns\n",
      "    - Categorical processing applied to: gender, shift_type, unit_category\n",
      "      - gender: 3 levels preserved\n",
      "      - shift_type: 4 levels preserved\n",
      "      - unit_category: 8 levels preserved\n",
      "  Transforming data...\n",
      "  Final processed shapes:\n",
      "    - Train: (175460, 7)\n",
      "    - Eval: (37598, 7)\n",
      "    - Test: (37600, 7)\n",
      "\n",
      "Generating profile report...\n"
     ]
    },
    {
     "data": {
      "text/html": [
       "\n",
       "            <div>\n",
       "                <ins><a href=\"https://ydata.ai/register\">Upgrade to ydata-sdk</a></ins>\n",
       "                <p>\n",
       "                    Improve your data and profiling with ydata-sdk, featuring data quality scoring, redundancy detection, outlier identification, text validation, and synthetic data generation.\n",
       "                </p>\n",
       "            </div>\n",
       "            "
      ],
      "text/plain": [
       "<IPython.core.display.HTML object>"
      ]
     },
     "metadata": {},
     "output_type": "display_data"
    },
    {
     "data": {
      "application/vnd.jupyter.widget-view+json": {
       "model_id": "5428379c2255429599839923dd2e87ad",
       "version_major": 2,
       "version_minor": 0
      },
      "text/plain": [
       "Summarize dataset:   0%|          | 0/5 [00:00<?, ?it/s]"
      ]
     },
     "metadata": {},
     "output_type": "display_data"
    },
    {
     "name": "stderr",
     "output_type": "stream",
     "text": [
      "\n",
      "100%|███████████████████████████████████████████████████████████████████████████████████████| 7/7 [00:00<00:00, 104.14it/s]\u001b[A\n"
     ]
    },
    {
     "data": {
      "application/vnd.jupyter.widget-view+json": {
       "model_id": "fa1f91e9c82940f9a02e06befc98978f",
       "version_major": 2,
       "version_minor": 0
      },
      "text/plain": [
       "Generate report structure:   0%|          | 0/1 [00:00<?, ?it/s]"
      ]
     },
     "metadata": {},
     "output_type": "display_data"
    },
    {
     "data": {
      "application/vnd.jupyter.widget-view+json": {
       "model_id": "2ab9053b946f4bb382b7f2d1caee0ef6",
       "version_major": 2,
       "version_minor": 0
      },
      "text/plain": [
       "Render HTML:   0%|          | 0/1 [00:00<?, ?it/s]"
      ]
     },
     "metadata": {},
     "output_type": "display_data"
    },
    {
     "data": {
      "application/vnd.jupyter.widget-view+json": {
       "model_id": "7ecdb53368374801b0149ba4f323c382",
       "version_major": 2,
       "version_minor": 0
      },
      "text/plain": [
       "Export report to file:   0%|          | 0/1 [00:00<?, ?it/s]"
      ]
     },
     "metadata": {},
     "output_type": "display_data"
    },
    {
     "name": "stdout",
     "output_type": "stream",
     "text": [
      "✓ Profile report saved to: model_pipeline/outputs/20250818_185550/train_profile_report.html\n",
      "\n",
      "✓ Preprocessing completed successfully!\n"
     ]
    }
   ],
   "source": [
    "# Run preprocessing only:\n",
    "\n",
    "train_df, eval_df, test_df, artifacts = run_preprocessing_only(config)"
   ]
  },
  {
   "cell_type": "code",
   "execution_count": 7,
   "id": "515f01ce-7810-4fa0-aaa8-18d31a2c1bce",
   "metadata": {},
   "outputs": [
    {
     "data": {
      "text/html": [
       "<div>\n",
       "<style scoped>\n",
       "    .dataframe tbody tr th:only-of-type {\n",
       "        vertical-align: middle;\n",
       "    }\n",
       "\n",
       "    .dataframe tbody tr th {\n",
       "        vertical-align: top;\n",
       "    }\n",
       "\n",
       "    .dataframe thead th {\n",
       "        text-align: right;\n",
       "    }\n",
       "</style>\n",
       "<table border=\"1\" class=\"dataframe\">\n",
       "  <thead>\n",
       "    <tr style=\"text-align: right;\">\n",
       "      <th></th>\n",
       "      <th>age</th>\n",
       "      <th>gender</th>\n",
       "      <th>hospital_days</th>\n",
       "      <th>charlson_score</th>\n",
       "      <th>shift_type</th>\n",
       "      <th>unit_category</th>\n",
       "      <th>alert_status_binary</th>\n",
       "    </tr>\n",
       "  </thead>\n",
       "  <tbody>\n",
       "    <tr>\n",
       "      <th>0</th>\n",
       "      <td>71.0</td>\n",
       "      <td>FEMALE</td>\n",
       "      <td>1</td>\n",
       "      <td>0</td>\n",
       "      <td>night</td>\n",
       "      <td>Gynecology</td>\n",
       "      <td>0</td>\n",
       "    </tr>\n",
       "    <tr>\n",
       "      <th>1</th>\n",
       "      <td>74.0</td>\n",
       "      <td>FEMALE</td>\n",
       "      <td>2</td>\n",
       "      <td>2</td>\n",
       "      <td>night</td>\n",
       "      <td>Internal</td>\n",
       "      <td>0</td>\n",
       "    </tr>\n",
       "    <tr>\n",
       "      <th>2</th>\n",
       "      <td>74.0</td>\n",
       "      <td>FEMALE</td>\n",
       "      <td>2</td>\n",
       "      <td>2</td>\n",
       "      <td>night</td>\n",
       "      <td>Internal</td>\n",
       "      <td>0</td>\n",
       "    </tr>\n",
       "    <tr>\n",
       "      <th>3</th>\n",
       "      <td>90.0</td>\n",
       "      <td>MALE</td>\n",
       "      <td>1</td>\n",
       "      <td>5</td>\n",
       "      <td>night</td>\n",
       "      <td>Internal</td>\n",
       "      <td>0</td>\n",
       "    </tr>\n",
       "    <tr>\n",
       "      <th>4</th>\n",
       "      <td>69.0</td>\n",
       "      <td>MALE</td>\n",
       "      <td>16</td>\n",
       "      <td>6</td>\n",
       "      <td>night</td>\n",
       "      <td>Surgery</td>\n",
       "      <td>0</td>\n",
       "    </tr>\n",
       "  </tbody>\n",
       "</table>\n",
       "</div>"
      ],
      "text/plain": [
       "    age  gender  hospital_days  charlson_score shift_type unit_category  \\\n",
       "0  71.0  FEMALE              1               0      night    Gynecology   \n",
       "1  74.0  FEMALE              2               2      night      Internal   \n",
       "2  74.0  FEMALE              2               2      night      Internal   \n",
       "3  90.0   MALE               1               5      night      Internal   \n",
       "4  69.0   MALE              16               6      night       Surgery   \n",
       "\n",
       "   alert_status_binary  \n",
       "0                    0  \n",
       "1                    0  \n",
       "2                    0  \n",
       "3                    0  \n",
       "4                    0  "
      ]
     },
     "execution_count": 7,
     "metadata": {},
     "output_type": "execute_result"
    }
   ],
   "source": [
    "# Get trainset\n",
    "\n",
    "train_df.head()"
   ]
  },
  {
   "cell_type": "code",
   "execution_count": 8,
   "id": "af81c88e-793c-4acd-8f83-6d260e672209",
   "metadata": {},
   "outputs": [
    {
     "data": {
      "text/html": [
       "<div>\n",
       "<style scoped>\n",
       "    .dataframe tbody tr th:only-of-type {\n",
       "        vertical-align: middle;\n",
       "    }\n",
       "\n",
       "    .dataframe tbody tr th {\n",
       "        vertical-align: top;\n",
       "    }\n",
       "\n",
       "    .dataframe thead th {\n",
       "        text-align: right;\n",
       "    }\n",
       "</style>\n",
       "<table border=\"1\" class=\"dataframe\">\n",
       "  <thead>\n",
       "    <tr style=\"text-align: right;\">\n",
       "      <th></th>\n",
       "      <th>age</th>\n",
       "      <th>gender</th>\n",
       "      <th>hospital_days</th>\n",
       "      <th>charlson_score</th>\n",
       "      <th>shift_type</th>\n",
       "      <th>unit_category</th>\n",
       "      <th>alert_status_binary</th>\n",
       "    </tr>\n",
       "  </thead>\n",
       "  <tbody>\n",
       "    <tr>\n",
       "      <th>175460</th>\n",
       "      <td>88.0</td>\n",
       "      <td>FEMALE</td>\n",
       "      <td>1</td>\n",
       "      <td>5</td>\n",
       "      <td>afternoon</td>\n",
       "      <td>Internal</td>\n",
       "      <td>0</td>\n",
       "    </tr>\n",
       "    <tr>\n",
       "      <th>175461</th>\n",
       "      <td>40.0</td>\n",
       "      <td>MALE</td>\n",
       "      <td>1</td>\n",
       "      <td>0</td>\n",
       "      <td>afternoon</td>\n",
       "      <td>Emergency</td>\n",
       "      <td>0</td>\n",
       "    </tr>\n",
       "    <tr>\n",
       "      <th>175462</th>\n",
       "      <td>85.0</td>\n",
       "      <td>FEMALE</td>\n",
       "      <td>1</td>\n",
       "      <td>6</td>\n",
       "      <td>afternoon</td>\n",
       "      <td>Internal</td>\n",
       "      <td>0</td>\n",
       "    </tr>\n",
       "    <tr>\n",
       "      <th>175463</th>\n",
       "      <td>85.0</td>\n",
       "      <td>FEMALE</td>\n",
       "      <td>1</td>\n",
       "      <td>6</td>\n",
       "      <td>afternoon</td>\n",
       "      <td>Internal</td>\n",
       "      <td>0</td>\n",
       "    </tr>\n",
       "    <tr>\n",
       "      <th>175464</th>\n",
       "      <td>85.0</td>\n",
       "      <td>FEMALE</td>\n",
       "      <td>1</td>\n",
       "      <td>6</td>\n",
       "      <td>afternoon</td>\n",
       "      <td>Internal</td>\n",
       "      <td>0</td>\n",
       "    </tr>\n",
       "  </tbody>\n",
       "</table>\n",
       "</div>"
      ],
      "text/plain": [
       "         age  gender  hospital_days  charlson_score shift_type unit_category  \\\n",
       "175460  88.0  FEMALE              1               5  afternoon      Internal   \n",
       "175461  40.0   MALE               1               0  afternoon     Emergency   \n",
       "175462  85.0  FEMALE              1               6  afternoon      Internal   \n",
       "175463  85.0  FEMALE              1               6  afternoon      Internal   \n",
       "175464  85.0  FEMALE              1               6  afternoon      Internal   \n",
       "\n",
       "        alert_status_binary  \n",
       "175460                    0  \n",
       "175461                    0  \n",
       "175462                    0  \n",
       "175463                    0  \n",
       "175464                    0  "
      ]
     },
     "execution_count": 8,
     "metadata": {},
     "output_type": "execute_result"
    }
   ],
   "source": [
    "# Get evaluation set\n",
    "\n",
    "eval_df.head()"
   ]
  },
  {
   "cell_type": "code",
   "execution_count": 12,
   "id": "3827a094-5f02-47e4-975b-6a1677a2d114",
   "metadata": {},
   "outputs": [
    {
     "name": "stdout",
     "output_type": "stream",
     "text": [
      "model_pipeline/outputs/20250818_185550/train_profile_report.html\n",
      "model_pipeline/outputs/20250818_185550\n"
     ]
    }
   ],
   "source": [
    "# get artifacts\n",
    "profile_path = artifacts['profile_path']\n",
    "run_directory = artifacts['run_directory']\n",
    "print(profile_path)\n",
    "print(run_directory)"
   ]
  },
  {
   "cell_type": "code",
   "execution_count": null,
   "id": "d0a2aa4e-560d-414c-91bf-ea490c256565",
   "metadata": {},
   "outputs": [],
   "source": []
  }
 ],
 "metadata": {
  "kernelspec": {
   "display_name": "Python 3 (ipykernel)",
   "language": "python",
   "name": "python3"
  },
  "language_info": {
   "codemirror_mode": {
    "name": "ipython",
    "version": 3
   },
   "file_extension": ".py",
   "mimetype": "text/x-python",
   "name": "python",
   "nbconvert_exporter": "python",
   "pygments_lexer": "ipython3",
   "version": "3.12.7"
  }
 },
 "nbformat": 4,
 "nbformat_minor": 5
}
