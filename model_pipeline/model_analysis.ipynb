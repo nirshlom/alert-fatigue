{
 "cells": [
  {
   "cell_type": "code",
   "execution_count": 1,
   "id": "6b83bca3-a0a0-4117-bde5-f0e296c1edb2",
   "metadata": {},
   "outputs": [],
   "source": [
    "import sys\n",
    "import os\n",
    "from pathlib import Path\n",
    "\n",
    "# # Add the parent directory to the path to allow imports\n",
    "#sys.path.append(str(Path.cwd()))\n",
    "os.chdir(r'C:\\Users\\hibaa\\Documents\\GitHub\\alert-fatigue')\n",
    "\n",
    "\n",
    "from model_pipeline.config import get_config\n",
    "from model_pipeline.pipeline import run_full_training, run_preprocessing_only\n",
    "from model_pipeline.models.statsmodels_logit import StatsmodelsLogitModel\n",
    "from model_pipeline.reporting.coefficients import (\n",
    "    coefficients_to_or, create_coefficient_summary, filter_significant_coefficients,\n",
    "    sort_coefficients_by_importance\n",
    ")"
   ]
  },
  {
   "cell_type": "code",
   "execution_count": 2,
   "id": "dae80a2d-d109-4c3d-9413-20990f78088d",
   "metadata": {},
   "outputs": [
    {
     "data": {
      "text/plain": [
       "'C:\\\\Users\\\\hibaa\\\\Documents\\\\GitHub\\\\alert-fatigue'"
      ]
     },
     "execution_count": 2,
     "metadata": {},
     "output_type": "execute_result"
    }
   ],
   "source": [
    "#!pip install scikit-learn\n",
    "os.getcwd()\n",
    "#sys.path.append(str(Path.cwd()))"
   ]
  },
  {
   "cell_type": "code",
   "execution_count": 3,
   "id": "44fcdd24-e0af-4e9e-a22c-ac57f90081c5",
   "metadata": {},
   "outputs": [
    {
     "name": "stdout",
     "output_type": "stream",
     "text": [
      "✓ Configuration validated successfully!\n",
      "  - Input: alert_analysis/data/main_data_2022/df_main_active_adult_renamed_clean_sample_10pct.csv\n",
      "  - Features: 7 columns\n",
      "  - Data split: 70% train, 15% eval, 15% test\n",
      "  - Output: model_pipeline\\outputs\n",
      "Input CSV: alert_analysis/data/main_data_2022/df_main_active_adult_renamed_clean_sample_10pct.csv\n",
      "Date Column: time_prescribing_order\n",
      "Target Column: alert_status_binary\n",
      "Features: ['age', 'gender', 'hospital_days', 'charlson_score', 'shift_type', 'unit_category', 'drug_atc']\n",
      "output dir: model_pipeline\\outputs\n"
     ]
    }
   ],
   "source": [
    "# Get centralized configuration\n",
    "config = get_config()\n",
    "    \n",
    "# Display configuration\n",
    "print(f\"Input CSV: {config['input_csv_path']}\")\n",
    "print(f\"Date Column: {config['date_column']}\")\n",
    "print(f\"Target Column: {config['target_column']}\")\n",
    "print(f\"Features: {config['feature_columns']}\")\n",
    "print(f\"output dir: {config['output_dir']}\")"
   ]
  },
  {
   "cell_type": "code",
   "execution_count": 4,
   "id": "b52451df-de98-427f-88cd-0fa13566d4ad",
   "metadata": {},
   "outputs": [
    {
     "name": "stdout",
     "output_type": "stream",
     "text": [
      "time_prescribing_order\n"
     ]
    }
   ],
   "source": [
    "# get file path\n",
    "file_path = config['input_csv_path']\n",
    "file_path\n",
    "\n",
    "date_column = config['date_column']\n",
    "print(date_column)"
   ]
  },
  {
   "cell_type": "markdown",
   "id": "2aeeb007-f2cf-4f2a-a4ba-7d1d7d3dc703",
   "metadata": {},
   "source": [
    "## Part 2: run pre-processing\n",
    "\n",
    "- Split data\n",
    "- prepere data\n",
    "- run profiling "
   ]
  },
  {
   "cell_type": "code",
   "execution_count": 5,
   "id": "60df07df-a78e-492f-b01b-df7db8acd157",
   "metadata": {},
   "outputs": [
    {
     "name": "stdout",
     "output_type": "stream",
     "text": [
      "Running preprocessing pipeline...\n",
      "Loading data...\n",
      "✓ Data loaded: 250,658 rows, 9 columns\n",
      "\n",
      "Splitting data...\n",
      "✓ Data split: Train=175,460, Eval=37,598, Test=37,600\n",
      "\n",
      "Preprocessing data...\n",
      "  Preprocessing configuration:\n",
      "    - Impute numeric: True\n",
      "    - Scale numeric: False\n",
      "    - Rare category threshold: 0.01\n",
      "  Fitting preprocessor on training data...\n",
      "  Preprocessing details:\n",
      "    - Numeric columns: 3\n",
      "    - Categorical columns: 4\n",
      "    - Numeric imputation applied to: age, hospital_days, charlson_score\n",
      "    - No missing values found in numeric columns\n",
      "    - Categorical processing applied to: gender, shift_type, unit_category, drug_atc\n",
      "      - gender: 3 levels preserved\n",
      "      - shift_type: 4 levels preserved\n",
      "      - unit_category: 8 levels preserved\n",
      "      - drug_atc: 23 levels preserved\n",
      "  Transforming data...\n",
      "  Final processed shapes:\n",
      "    - Train: (175460, 8)\n",
      "    - Eval: (37598, 8)\n",
      "    - Test: (37600, 8)\n",
      "\n",
      "Generating profile report...\n"
     ]
    },
    {
     "data": {
      "text/html": [
       "\n",
       "            <div>\n",
       "                <ins><a href=\"https://ydata.ai/register\">Upgrade to ydata-sdk</a></ins>\n",
       "                <p>\n",
       "                    Improve your data and profiling with ydata-sdk, featuring data quality scoring, redundancy detection, outlier identification, text validation, and synthetic data generation.\n",
       "                </p>\n",
       "            </div>\n",
       "            "
      ],
      "text/plain": [
       "<IPython.core.display.HTML object>"
      ]
     },
     "metadata": {},
     "output_type": "display_data"
    },
    {
     "data": {
      "application/vnd.jupyter.widget-view+json": {
       "model_id": "faa64cfeb4794ac78f9c0eea693dcce5",
       "version_major": 2,
       "version_minor": 0
      },
      "text/plain": [
       "Summarize dataset:   0%|          | 0/5 [00:00<?, ?it/s]"
      ]
     },
     "metadata": {},
     "output_type": "display_data"
    },
    {
     "name": "stderr",
     "output_type": "stream",
     "text": [
      "\n",
      "  0%|                                                                                            | 0/8 [00:00<?, ?it/s]\u001b[A\n",
      "100%|████████████████████████████████████████████████████████████████████████████████████| 8/8 [00:00<00:00, 50.52it/s]\u001b[A\n"
     ]
    },
    {
     "data": {
      "application/vnd.jupyter.widget-view+json": {
       "model_id": "8832176a12334803937a93c436ff7ffe",
       "version_major": 2,
       "version_minor": 0
      },
      "text/plain": [
       "Generate report structure:   0%|          | 0/1 [00:00<?, ?it/s]"
      ]
     },
     "metadata": {},
     "output_type": "display_data"
    },
    {
     "data": {
      "application/vnd.jupyter.widget-view+json": {
       "model_id": "10c8b0963bf44e2b848399b932167ac4",
       "version_major": 2,
       "version_minor": 0
      },
      "text/plain": [
       "Render HTML:   0%|          | 0/1 [00:00<?, ?it/s]"
      ]
     },
     "metadata": {},
     "output_type": "display_data"
    },
    {
     "data": {
      "application/vnd.jupyter.widget-view+json": {
       "model_id": "8ad7e2d973ca44c6b1d650ad43c7fff5",
       "version_major": 2,
       "version_minor": 0
      },
      "text/plain": [
       "Export report to file:   0%|          | 0/1 [00:00<?, ?it/s]"
      ]
     },
     "metadata": {},
     "output_type": "display_data"
    },
    {
     "name": "stdout",
     "output_type": "stream",
     "text": [
      "✓ Profile report saved to: model_pipeline\\outputs\\20250824_221607\\train_profile_report.html\n",
      "\n",
      "✓ Preprocessing completed successfully!\n"
     ]
    }
   ],
   "source": [
    "# Run preprocessing only:\n",
    "\n",
    "train_df, eval_df, test_df, artifacts = run_preprocessing_only(config)"
   ]
  },
  {
   "cell_type": "code",
   "execution_count": 6,
   "id": "515f01ce-7810-4fa0-aaa8-18d31a2c1bce",
   "metadata": {},
   "outputs": [
    {
     "data": {
      "text/html": [
       "<div>\n",
       "<style scoped>\n",
       "    .dataframe tbody tr th:only-of-type {\n",
       "        vertical-align: middle;\n",
       "    }\n",
       "\n",
       "    .dataframe tbody tr th {\n",
       "        vertical-align: top;\n",
       "    }\n",
       "\n",
       "    .dataframe thead th {\n",
       "        text-align: right;\n",
       "    }\n",
       "</style>\n",
       "<table border=\"1\" class=\"dataframe\">\n",
       "  <thead>\n",
       "    <tr style=\"text-align: right;\">\n",
       "      <th></th>\n",
       "      <th>age</th>\n",
       "      <th>gender</th>\n",
       "      <th>hospital_days</th>\n",
       "      <th>charlson_score</th>\n",
       "      <th>shift_type</th>\n",
       "      <th>unit_category</th>\n",
       "      <th>drug_atc</th>\n",
       "      <th>alert_status_binary</th>\n",
       "    </tr>\n",
       "  </thead>\n",
       "  <tbody>\n",
       "    <tr>\n",
       "      <th>0</th>\n",
       "      <td>71.0</td>\n",
       "      <td>FEMALE</td>\n",
       "      <td>1</td>\n",
       "      <td>0</td>\n",
       "      <td>night</td>\n",
       "      <td>Gynecology</td>\n",
       "      <td>Other</td>\n",
       "      <td>0</td>\n",
       "    </tr>\n",
       "    <tr>\n",
       "      <th>1</th>\n",
       "      <td>74.0</td>\n",
       "      <td>FEMALE</td>\n",
       "      <td>2</td>\n",
       "      <td>2</td>\n",
       "      <td>night</td>\n",
       "      <td>Internal</td>\n",
       "      <td>Other</td>\n",
       "      <td>0</td>\n",
       "    </tr>\n",
       "    <tr>\n",
       "      <th>2</th>\n",
       "      <td>74.0</td>\n",
       "      <td>FEMALE</td>\n",
       "      <td>2</td>\n",
       "      <td>2</td>\n",
       "      <td>night</td>\n",
       "      <td>Internal</td>\n",
       "      <td>N02BE01</td>\n",
       "      <td>0</td>\n",
       "    </tr>\n",
       "    <tr>\n",
       "      <th>3</th>\n",
       "      <td>90.0</td>\n",
       "      <td>MALE</td>\n",
       "      <td>1</td>\n",
       "      <td>5</td>\n",
       "      <td>night</td>\n",
       "      <td>Internal</td>\n",
       "      <td>Other</td>\n",
       "      <td>0</td>\n",
       "    </tr>\n",
       "    <tr>\n",
       "      <th>4</th>\n",
       "      <td>69.0</td>\n",
       "      <td>MALE</td>\n",
       "      <td>16</td>\n",
       "      <td>6</td>\n",
       "      <td>night</td>\n",
       "      <td>Surgery</td>\n",
       "      <td>N02BE01</td>\n",
       "      <td>0</td>\n",
       "    </tr>\n",
       "  </tbody>\n",
       "</table>\n",
       "</div>"
      ],
      "text/plain": [
       "    age  gender  hospital_days  charlson_score shift_type unit_category  \\\n",
       "0  71.0  FEMALE              1               0      night    Gynecology   \n",
       "1  74.0  FEMALE              2               2      night      Internal   \n",
       "2  74.0  FEMALE              2               2      night      Internal   \n",
       "3  90.0   MALE               1               5      night      Internal   \n",
       "4  69.0   MALE              16               6      night       Surgery   \n",
       "\n",
       "  drug_atc  alert_status_binary  \n",
       "0    Other                    0  \n",
       "1    Other                    0  \n",
       "2  N02BE01                    0  \n",
       "3    Other                    0  \n",
       "4  N02BE01                    0  "
      ]
     },
     "execution_count": 6,
     "metadata": {},
     "output_type": "execute_result"
    }
   ],
   "source": [
    "# Get trainset\n",
    "\n",
    "train_df.head()"
   ]
  },
  {
   "cell_type": "code",
   "execution_count": 7,
   "id": "af81c88e-793c-4acd-8f83-6d260e672209",
   "metadata": {},
   "outputs": [
    {
     "data": {
      "text/html": [
       "<div>\n",
       "<style scoped>\n",
       "    .dataframe tbody tr th:only-of-type {\n",
       "        vertical-align: middle;\n",
       "    }\n",
       "\n",
       "    .dataframe tbody tr th {\n",
       "        vertical-align: top;\n",
       "    }\n",
       "\n",
       "    .dataframe thead th {\n",
       "        text-align: right;\n",
       "    }\n",
       "</style>\n",
       "<table border=\"1\" class=\"dataframe\">\n",
       "  <thead>\n",
       "    <tr style=\"text-align: right;\">\n",
       "      <th></th>\n",
       "      <th>age</th>\n",
       "      <th>gender</th>\n",
       "      <th>hospital_days</th>\n",
       "      <th>charlson_score</th>\n",
       "      <th>shift_type</th>\n",
       "      <th>unit_category</th>\n",
       "      <th>drug_atc</th>\n",
       "      <th>alert_status_binary</th>\n",
       "    </tr>\n",
       "  </thead>\n",
       "  <tbody>\n",
       "    <tr>\n",
       "      <th>175460</th>\n",
       "      <td>88.0</td>\n",
       "      <td>FEMALE</td>\n",
       "      <td>1</td>\n",
       "      <td>5</td>\n",
       "      <td>afternoon</td>\n",
       "      <td>Internal</td>\n",
       "      <td>Other</td>\n",
       "      <td>0</td>\n",
       "    </tr>\n",
       "    <tr>\n",
       "      <th>175461</th>\n",
       "      <td>40.0</td>\n",
       "      <td>MALE</td>\n",
       "      <td>1</td>\n",
       "      <td>0</td>\n",
       "      <td>afternoon</td>\n",
       "      <td>Emergency</td>\n",
       "      <td>A03FA01</td>\n",
       "      <td>0</td>\n",
       "    </tr>\n",
       "    <tr>\n",
       "      <th>175462</th>\n",
       "      <td>85.0</td>\n",
       "      <td>FEMALE</td>\n",
       "      <td>1</td>\n",
       "      <td>6</td>\n",
       "      <td>afternoon</td>\n",
       "      <td>Internal</td>\n",
       "      <td>Other</td>\n",
       "      <td>0</td>\n",
       "    </tr>\n",
       "    <tr>\n",
       "      <th>175463</th>\n",
       "      <td>85.0</td>\n",
       "      <td>FEMALE</td>\n",
       "      <td>1</td>\n",
       "      <td>6</td>\n",
       "      <td>afternoon</td>\n",
       "      <td>Internal</td>\n",
       "      <td>Other</td>\n",
       "      <td>0</td>\n",
       "    </tr>\n",
       "    <tr>\n",
       "      <th>175464</th>\n",
       "      <td>85.0</td>\n",
       "      <td>FEMALE</td>\n",
       "      <td>1</td>\n",
       "      <td>6</td>\n",
       "      <td>afternoon</td>\n",
       "      <td>Internal</td>\n",
       "      <td>Other</td>\n",
       "      <td>0</td>\n",
       "    </tr>\n",
       "  </tbody>\n",
       "</table>\n",
       "</div>"
      ],
      "text/plain": [
       "         age  gender  hospital_days  charlson_score shift_type unit_category  \\\n",
       "175460  88.0  FEMALE              1               5  afternoon      Internal   \n",
       "175461  40.0   MALE               1               0  afternoon     Emergency   \n",
       "175462  85.0  FEMALE              1               6  afternoon      Internal   \n",
       "175463  85.0  FEMALE              1               6  afternoon      Internal   \n",
       "175464  85.0  FEMALE              1               6  afternoon      Internal   \n",
       "\n",
       "       drug_atc  alert_status_binary  \n",
       "175460    Other                    0  \n",
       "175461  A03FA01                    0  \n",
       "175462    Other                    0  \n",
       "175463    Other                    0  \n",
       "175464    Other                    0  "
      ]
     },
     "execution_count": 7,
     "metadata": {},
     "output_type": "execute_result"
    }
   ],
   "source": [
    "# Get evaluation set\n",
    "\n",
    "eval_df.head()"
   ]
  },
  {
   "cell_type": "code",
   "execution_count": 8,
   "id": "3827a094-5f02-47e4-975b-6a1677a2d114",
   "metadata": {},
   "outputs": [
    {
     "name": "stdout",
     "output_type": "stream",
     "text": [
      "model_pipeline\\outputs\\20250824_221607\\train_profile_report.html\n",
      "model_pipeline\\outputs\\20250824_221607\n"
     ]
    }
   ],
   "source": [
    "# get artifacts\n",
    "profile_path = artifacts['profile_path']\n",
    "run_directory = artifacts['run_directory']\n",
    "print(profile_path)\n",
    "print(run_directory)"
   ]
  },
  {
   "cell_type": "markdown",
   "id": "1865f52a-b369-4dea-8278-1b15c742d3f2",
   "metadata": {},
   "source": [
    "## Run model training"
   ]
  },
  {
   "cell_type": "code",
   "execution_count": 9,
   "id": "65062e74-3d75-4be6-8647-4ae4d9dd045c",
   "metadata": {},
   "outputs": [
    {
     "name": "stdout",
     "output_type": "stream",
     "text": [
      "Training logistic regression model...\n"
     ]
    },
    {
     "name": "stderr",
     "output_type": "stream",
     "text": [
      "C:\\Users\\hibaa\\Documents\\GitHub\\alert-fatigue\\hiba_env\\Lib\\site-packages\\statsmodels\\genmod\\generalized_linear_model.py:1923: FutureWarning: The bic value is computed using the deviance formula. After 0.13 this will change to the log-likelihood based formula. This change has no impact on the relative rank of models compared using BIC. You can directly access the log-likelihood version using the `bic_llf` attribute. You can suppress this message by calling statsmodels.genmod.generalized_linear_model.SET_USE_BIC_LLF with True to get the LLF-based version now or False to retainthe deviance version.\n",
      "  warnings.warn(\n"
     ]
    }
   ],
   "source": [
    "# Train model\n",
    "print(\"Training logistic regression model...\")\n",
    "model = StatsmodelsLogitModel(use_glm=config['use_glm'])\n",
    "    \n",
    "train_features = train_df[config['feature_columns']]\n",
    "train_target = train_df[config['target_column']]\n",
    "    \n",
    "model.fit(train_features, train_target)\n",
    "    \n",
    "    # Get model summary\n",
    "model_summary = model.get_model_summary()\n",
    "aic_bic = model.get_aic_bic()"
   ]
  },
  {
   "cell_type": "code",
   "execution_count": 10,
   "id": "f8d51f5c-f54f-4c58-ad3d-52d4207663c6",
   "metadata": {},
   "outputs": [
    {
     "name": "stdout",
     "output_type": "stream",
     "text": [
      "                  Generalized Linear Model Regression Results                  \n",
      "===============================================================================\n",
      "Dep. Variable:     alert_status_binary   No. Observations:               175460\n",
      "Model:                             GLM   Df Residuals:                   175424\n",
      "Model Family:                 Binomial   Df Model:                           35\n",
      "Link Function:                   Logit   Scale:                          1.0000\n",
      "Method:                           IRLS   Log-Likelihood:                -29977.\n",
      "Date:                 Sun, 24 Aug 2025   Deviance:                       59954.\n",
      "Time:                         22:17:53   Pearson chi2:                 1.73e+05\n",
      "No. Iterations:                     26   Pseudo R-squ. (CS):            0.01379\n",
      "Covariance Type:             nonrobust                                         \n",
      "=================================================================================================================================================================================================================================================================================================================================================================================\n",
      "                                                                                                                                                                                                                                                                                                                    coef    std err          z      P>|z|      [0.025      0.975]\n",
      "---------------------------------------------------------------------------------------------------------------------------------------------------------------------------------------------------------------------------------------------------------------------------------------------------------------------------------------------------------------------------------\n",
      "Intercept                                                                                                                                                                                                                                                                                                        -2.9375      0.068    -42.947      0.000      -3.072      -2.803\n",
      "C(gender, levels=['MALE ', 'FEMALE', '__MISSING__', 'Other'])[T.FEMALE]                                                                                                                                                                                                                                           0.1079      0.024      4.430      0.000       0.060       0.156\n",
      "C(gender, levels=['MALE ', 'FEMALE', '__MISSING__', 'Other'])[T.__MISSING__]                                                                                                                                                                                                                                   2.577e-11   1.35e-08      0.002      0.998   -2.64e-08    2.64e-08\n",
      "C(gender, levels=['MALE ', 'FEMALE', '__MISSING__', 'Other'])[T.Other]                                                                                                                                                                                                                                        -5.539e-11    2.9e-08     -0.002      0.998   -5.69e-08    5.68e-08\n",
      "C(shift_type, levels=['morning', 'afternoon', 'night', '__MISSING__', 'Other'])[T.afternoon]                                                                                                                                                                                                                     -0.0168      0.026     -0.637      0.524      -0.069       0.035\n",
      "C(shift_type, levels=['morning', 'afternoon', 'night', '__MISSING__', 'Other'])[T.night]                                                                                                                                                                                                                         -0.0256      0.033     -0.773      0.439      -0.090       0.039\n",
      "C(shift_type, levels=['morning', 'afternoon', 'night', '__MISSING__', 'Other'])[T.__MISSING__]                                                                                                                                                                                                                 8.121e-11   4.25e-08      0.002      0.998   -8.33e-08    8.35e-08\n",
      "C(shift_type, levels=['morning', 'afternoon', 'night', '__MISSING__', 'Other'])[T.Other]                                                                                                                                                                                                                      -5.282e-12   2.78e-09     -0.002      0.998   -5.44e-09    5.43e-09\n",
      "C(unit_category, levels=['Internal', 'Surgery', 'Internal-Covid19', 'Cardiology', 'Gynecology', 'Emergency', 'Geriatric', '__MISSING__', 'Other'])[T.Surgery]                                                                                                                                                     0.0874      0.028      3.139      0.002       0.033       0.142\n",
      "C(unit_category, levels=['Internal', 'Surgery', 'Internal-Covid19', 'Cardiology', 'Gynecology', 'Emergency', 'Geriatric', '__MISSING__', 'Other'])[T.Internal-Covid19]                                                                                                                                            0.0836      0.059      1.423      0.155      -0.032       0.199\n",
      "C(unit_category, levels=['Internal', 'Surgery', 'Internal-Covid19', 'Cardiology', 'Gynecology', 'Emergency', 'Geriatric', '__MISSING__', 'Other'])[T.Cardiology]                                                                                                                                                 -0.0555      0.069     -0.804      0.421      -0.191       0.080\n",
      "C(unit_category, levels=['Internal', 'Surgery', 'Internal-Covid19', 'Cardiology', 'Gynecology', 'Emergency', 'Geriatric', '__MISSING__', 'Other'])[T.Gynecology]                                                                                                                                                 -0.0388      0.069     -0.560      0.575      -0.175       0.097\n",
      "C(unit_category, levels=['Internal', 'Surgery', 'Internal-Covid19', 'Cardiology', 'Gynecology', 'Emergency', 'Geriatric', '__MISSING__', 'Other'])[T.Emergency]                                                                                                                                                   0.3343      0.082      4.064      0.000       0.173       0.496\n",
      "C(unit_category, levels=['Internal', 'Surgery', 'Internal-Covid19', 'Cardiology', 'Gynecology', 'Emergency', 'Geriatric', '__MISSING__', 'Other'])[T.Geriatric]                                                                                                                                                  -0.5475      0.133     -4.116      0.000      -0.808      -0.287\n",
      "C(unit_category, levels=['Internal', 'Surgery', 'Internal-Covid19', 'Cardiology', 'Gynecology', 'Emergency', 'Geriatric', '__MISSING__', 'Other'])[T.__MISSING__]                                                                                                                                              1.052e-11   5.51e-09      0.002      0.998   -1.08e-08    1.08e-08\n",
      "C(unit_category, levels=['Internal', 'Surgery', 'Internal-Covid19', 'Cardiology', 'Gynecology', 'Emergency', 'Geriatric', '__MISSING__', 'Other'])[T.Other]                                                                                                                                                       0.2467      0.084      2.942      0.003       0.082       0.411\n",
      "C(drug_atc, levels=['N02BB02', 'N02BE01', 'B05XA03', 'C07AB07', 'C03CA01', 'B01AC06', 'B01AB05', 'C10AA05', 'A02BC01', 'A03FA01', 'C09AA05', 'A10AE04', 'A10AB05', 'B05BB05', 'N02AX02', 'B01AC04', 'N05CD09', 'J01DD04', 'A10BA02', 'A02BC02', 'A06AD11', 'H02AB07', '__MISSING__', 'Other'])[T.N02BE01]        -0.0647      0.063     -1.026      0.305      -0.188       0.059\n",
      "C(drug_atc, levels=['N02BB02', 'N02BE01', 'B05XA03', 'C07AB07', 'C03CA01', 'B01AC06', 'B01AB05', 'C10AA05', 'A02BC01', 'A03FA01', 'C09AA05', 'A10AE04', 'A10AB05', 'B05BB05', 'N02AX02', 'B01AC04', 'N05CD09', 'J01DD04', 'A10BA02', 'A02BC02', 'A06AD11', 'H02AB07', '__MISSING__', 'Other'])[T.B05XA03]        -1.1029      0.105    -10.462      0.000      -1.310      -0.896\n",
      "C(drug_atc, levels=['N02BB02', 'N02BE01', 'B05XA03', 'C07AB07', 'C03CA01', 'B01AC06', 'B01AB05', 'C10AA05', 'A02BC01', 'A03FA01', 'C09AA05', 'A10AE04', 'A10AB05', 'B05BB05', 'N02AX02', 'B01AC04', 'N05CD09', 'J01DD04', 'A10BA02', 'A02BC02', 'A06AD11', 'H02AB07', '__MISSING__', 'Other'])[T.C07AB07]        -2.0272      0.171    -11.854      0.000      -2.362      -1.692\n",
      "C(drug_atc, levels=['N02BB02', 'N02BE01', 'B05XA03', 'C07AB07', 'C03CA01', 'B01AC06', 'B01AB05', 'C10AA05', 'A02BC01', 'A03FA01', 'C09AA05', 'A10AE04', 'A10AB05', 'B05BB05', 'N02AX02', 'B01AC04', 'N05CD09', 'J01DD04', 'A10BA02', 'A02BC02', 'A06AD11', 'H02AB07', '__MISSING__', 'Other'])[T.C03CA01]        -2.4775      0.214    -11.579      0.000      -2.897      -2.058\n",
      "C(drug_atc, levels=['N02BB02', 'N02BE01', 'B05XA03', 'C07AB07', 'C03CA01', 'B01AC06', 'B01AB05', 'C10AA05', 'A02BC01', 'A03FA01', 'C09AA05', 'A10AE04', 'A10AB05', 'B05BB05', 'N02AX02', 'B01AC04', 'N05CD09', 'J01DD04', 'A10BA02', 'A02BC02', 'A06AD11', 'H02AB07', '__MISSING__', 'Other'])[T.B01AC06]        -1.6616      0.150    -11.048      0.000      -1.956      -1.367\n",
      "C(drug_atc, levels=['N02BB02', 'N02BE01', 'B05XA03', 'C07AB07', 'C03CA01', 'B01AC06', 'B01AB05', 'C10AA05', 'A02BC01', 'A03FA01', 'C09AA05', 'A10AE04', 'A10AB05', 'B05BB05', 'N02AX02', 'B01AC04', 'N05CD09', 'J01DD04', 'A10BA02', 'A02BC02', 'A06AD11', 'H02AB07', '__MISSING__', 'Other'])[T.B01AB05]        -0.7720      0.102     -7.575      0.000      -0.972      -0.572\n",
      "C(drug_atc, levels=['N02BB02', 'N02BE01', 'B05XA03', 'C07AB07', 'C03CA01', 'B01AC06', 'B01AB05', 'C10AA05', 'A02BC01', 'A03FA01', 'C09AA05', 'A10AE04', 'A10AB05', 'B05BB05', 'N02AX02', 'B01AC04', 'N05CD09', 'J01DD04', 'A10BA02', 'A02BC02', 'A06AD11', 'H02AB07', '__MISSING__', 'Other'])[T.C10AA05]        -2.0159      0.192    -10.518      0.000      -2.392      -1.640\n",
      "C(drug_atc, levels=['N02BB02', 'N02BE01', 'B05XA03', 'C07AB07', 'C03CA01', 'B01AC06', 'B01AB05', 'C10AA05', 'A02BC01', 'A03FA01', 'C09AA05', 'A10AE04', 'A10AB05', 'B05BB05', 'N02AX02', 'B01AC04', 'N05CD09', 'J01DD04', 'A10BA02', 'A02BC02', 'A06AD11', 'H02AB07', '__MISSING__', 'Other'])[T.A02BC01]        -1.8930      0.198     -9.553      0.000      -2.281      -1.505\n",
      "C(drug_atc, levels=['N02BB02', 'N02BE01', 'B05XA03', 'C07AB07', 'C03CA01', 'B01AC06', 'B01AB05', 'C10AA05', 'A02BC01', 'A03FA01', 'C09AA05', 'A10AE04', 'A10AB05', 'B05BB05', 'N02AX02', 'B01AC04', 'N05CD09', 'J01DD04', 'A10BA02', 'A02BC02', 'A06AD11', 'H02AB07', '__MISSING__', 'Other'])[T.A03FA01]        -2.0173      0.229     -8.823      0.000      -2.465      -1.569\n",
      "C(drug_atc, levels=['N02BB02', 'N02BE01', 'B05XA03', 'C07AB07', 'C03CA01', 'B01AC06', 'B01AB05', 'C10AA05', 'A02BC01', 'A03FA01', 'C09AA05', 'A10AE04', 'A10AB05', 'B05BB05', 'N02AX02', 'B01AC04', 'N05CD09', 'J01DD04', 'A10BA02', 'A02BC02', 'A06AD11', 'H02AB07', '__MISSING__', 'Other'])[T.C09AA05]        -2.4708      0.306     -8.087      0.000      -3.070      -1.872\n",
      "C(drug_atc, levels=['N02BB02', 'N02BE01', 'B05XA03', 'C07AB07', 'C03CA01', 'B01AC06', 'B01AB05', 'C10AA05', 'A02BC01', 'A03FA01', 'C09AA05', 'A10AE04', 'A10AB05', 'B05BB05', 'N02AX02', 'B01AC04', 'N05CD09', 'J01DD04', 'A10BA02', 'A02BC02', 'A06AD11', 'H02AB07', '__MISSING__', 'Other'])[T.A10AE04]        -1.2655      0.172     -7.367      0.000      -1.602      -0.929\n",
      "C(drug_atc, levels=['N02BB02', 'N02BE01', 'B05XA03', 'C07AB07', 'C03CA01', 'B01AC06', 'B01AB05', 'C10AA05', 'A02BC01', 'A03FA01', 'C09AA05', 'A10AE04', 'A10AB05', 'B05BB05', 'N02AX02', 'B01AC04', 'N05CD09', 'J01DD04', 'A10BA02', 'A02BC02', 'A06AD11', 'H02AB07', '__MISSING__', 'Other'])[T.A10AB05]        -1.0790      0.159     -6.792      0.000      -1.390      -0.768\n",
      "C(drug_atc, levels=['N02BB02', 'N02BE01', 'B05XA03', 'C07AB07', 'C03CA01', 'B01AC06', 'B01AB05', 'C10AA05', 'A02BC01', 'A03FA01', 'C09AA05', 'A10AE04', 'A10AB05', 'B05BB05', 'N02AX02', 'B01AC04', 'N05CD09', 'J01DD04', 'A10BA02', 'A02BC02', 'A06AD11', 'H02AB07', '__MISSING__', 'Other'])[T.B05BB05]       -24.7863    1.3e+04     -0.002      0.998   -2.55e+04    2.54e+04\n",
      "C(drug_atc, levels=['N02BB02', 'N02BE01', 'B05XA03', 'C07AB07', 'C03CA01', 'B01AC06', 'B01AB05', 'C10AA05', 'A02BC01', 'A03FA01', 'C09AA05', 'A10AE04', 'A10AB05', 'B05BB05', 'N02AX02', 'B01AC04', 'N05CD09', 'J01DD04', 'A10BA02', 'A02BC02', 'A06AD11', 'H02AB07', '__MISSING__', 'Other'])[T.N02AX02]        -1.0475      0.162     -6.469      0.000      -1.365      -0.730\n",
      "C(drug_atc, levels=['N02BB02', 'N02BE01', 'B05XA03', 'C07AB07', 'C03CA01', 'B01AC06', 'B01AB05', 'C10AA05', 'A02BC01', 'A03FA01', 'C09AA05', 'A10AE04', 'A10AB05', 'B05BB05', 'N02AX02', 'B01AC04', 'N05CD09', 'J01DD04', 'A10BA02', 'A02BC02', 'A06AD11', 'H02AB07', '__MISSING__', 'Other'])[T.B01AC04]        -0.0958      0.113     -0.844      0.399      -0.318       0.127\n",
      "C(drug_atc, levels=['N02BB02', 'N02BE01', 'B05XA03', 'C07AB07', 'C03CA01', 'B01AC06', 'B01AB05', 'C10AA05', 'A02BC01', 'A03FA01', 'C09AA05', 'A10AE04', 'A10AB05', 'B05BB05', 'N02AX02', 'B01AC04', 'N05CD09', 'J01DD04', 'A10BA02', 'A02BC02', 'A06AD11', 'H02AB07', '__MISSING__', 'Other'])[T.N05CD09]        -0.8094      0.153     -5.297      0.000      -1.109      -0.510\n",
      "C(drug_atc, levels=['N02BB02', 'N02BE01', 'B05XA03', 'C07AB07', 'C03CA01', 'B01AC06', 'B01AB05', 'C10AA05', 'A02BC01', 'A03FA01', 'C09AA05', 'A10AE04', 'A10AB05', 'B05BB05', 'N02AX02', 'B01AC04', 'N05CD09', 'J01DD04', 'A10BA02', 'A02BC02', 'A06AD11', 'H02AB07', '__MISSING__', 'Other'])[T.J01DD04]        -0.0843      0.114     -0.741      0.459      -0.308       0.139\n",
      "C(drug_atc, levels=['N02BB02', 'N02BE01', 'B05XA03', 'C07AB07', 'C03CA01', 'B01AC06', 'B01AB05', 'C10AA05', 'A02BC01', 'A03FA01', 'C09AA05', 'A10AE04', 'A10AB05', 'B05BB05', 'N02AX02', 'B01AC04', 'N05CD09', 'J01DD04', 'A10BA02', 'A02BC02', 'A06AD11', 'H02AB07', '__MISSING__', 'Other'])[T.A10BA02]        -0.6576      0.146     -4.496      0.000      -0.944      -0.371\n",
      "C(drug_atc, levels=['N02BB02', 'N02BE01', 'B05XA03', 'C07AB07', 'C03CA01', 'B01AC06', 'B01AB05', 'C10AA05', 'A02BC01', 'A03FA01', 'C09AA05', 'A10AE04', 'A10AB05', 'B05BB05', 'N02AX02', 'B01AC04', 'N05CD09', 'J01DD04', 'A10BA02', 'A02BC02', 'A06AD11', 'H02AB07', '__MISSING__', 'Other'])[T.A02BC02]        -1.6274      0.224     -7.271      0.000      -2.066      -1.189\n",
      "C(drug_atc, levels=['N02BB02', 'N02BE01', 'B05XA03', 'C07AB07', 'C03CA01', 'B01AC06', 'B01AB05', 'C10AA05', 'A02BC01', 'A03FA01', 'C09AA05', 'A10AE04', 'A10AB05', 'B05BB05', 'N02AX02', 'B01AC04', 'N05CD09', 'J01DD04', 'A10BA02', 'A02BC02', 'A06AD11', 'H02AB07', '__MISSING__', 'Other'])[T.A06AD11]        -1.3863      0.203     -6.842      0.000      -1.783      -0.989\n",
      "C(drug_atc, levels=['N02BB02', 'N02BE01', 'B05XA03', 'C07AB07', 'C03CA01', 'B01AC06', 'B01AB05', 'C10AA05', 'A02BC01', 'A03FA01', 'C09AA05', 'A10AE04', 'A10AB05', 'B05BB05', 'N02AX02', 'B01AC04', 'N05CD09', 'J01DD04', 'A10BA02', 'A02BC02', 'A06AD11', 'H02AB07', '__MISSING__', 'Other'])[T.H02AB07]        -2.2507      0.306     -7.362      0.000      -2.850      -1.652\n",
      "C(drug_atc, levels=['N02BB02', 'N02BE01', 'B05XA03', 'C07AB07', 'C03CA01', 'B01AC06', 'B01AB05', 'C10AA05', 'A02BC01', 'A03FA01', 'C09AA05', 'A10AE04', 'A10AB05', 'B05BB05', 'N02AX02', 'B01AC04', 'N05CD09', 'J01DD04', 'A10BA02', 'A02BC02', 'A06AD11', 'H02AB07', '__MISSING__', 'Other'])[T.__MISSING__]          0          0        nan        nan           0           0\n",
      "C(drug_atc, levels=['N02BB02', 'N02BE01', 'B05XA03', 'C07AB07', 'C03CA01', 'B01AC06', 'B01AB05', 'C10AA05', 'A02BC01', 'A03FA01', 'C09AA05', 'A10AE04', 'A10AB05', 'B05BB05', 'N02AX02', 'B01AC04', 'N05CD09', 'J01DD04', 'A10BA02', 'A02BC02', 'A06AD11', 'H02AB07', '__MISSING__', 'Other'])[T.Other]           0.0117      0.046      0.257      0.797      -0.078       0.101\n",
      "age                                                                                                                                                                                                                                                                                                              -0.0005      0.001     -0.667      0.504      -0.002       0.001\n",
      "hospital_days                                                                                                                                                                                                                                                                                                     0.0065      0.001      6.463      0.000       0.005       0.008\n",
      "charlson_score                                                                                                                                                                                                                                                                                                    0.0180      0.006      2.936      0.003       0.006       0.030\n",
      "=================================================================================================================================================================================================================================================================================================================================================================================\n"
     ]
    }
   ],
   "source": [
    "print(model_summary)"
   ]
  },
  {
   "cell_type": "code",
   "execution_count": 11,
   "id": "1b5892b9-0cb8-476b-9e4f-642b35022284",
   "metadata": {},
   "outputs": [
    {
     "name": "stdout",
     "output_type": "stream",
     "text": [
      "Analyzing coefficients...\n"
     ]
    },
    {
     "name": "stderr",
     "output_type": "stream",
     "text": [
      "C:\\Users\\hibaa\\Documents\\GitHub\\alert-fatigue\\hiba_env\\Lib\\site-packages\\pandas\\core\\arraylike.py:399: RuntimeWarning: overflow encountered in exp\n",
      "  result = getattr(ufunc, method)(*inputs, **kwargs)\n"
     ]
    }
   ],
   "source": [
    " # Get coefficients and convert to odds ratios\n",
    "print(\"Analyzing coefficients...\")\n",
    "coef_df = model.get_coefficients()\n",
    "or_df = coefficients_to_or(coef_df)\n",
    "    \n",
    "# Sort coefficients by importance\n",
    "or_df_sorted = sort_coefficients_by_importance(or_df, method='odds_ratio')\n",
    "    \n",
    "# Filter significant coefficients\n",
    "significant_coef = filter_significant_coefficients(or_df)\n",
    "    \n",
    "# Create coefficient summary\n",
    "coef_summary = create_coefficient_summary(or_df)"
   ]
  },
  {
   "cell_type": "code",
   "execution_count": 12,
   "id": "85f40a5e-90cc-4ae8-a269-842042a07023",
   "metadata": {},
   "outputs": [
    {
     "data": {
      "text/plain": [
       "{'total_features': 42,\n",
       " 'significant_features': np.int64(25),\n",
       " 'non_significant_features': np.int64(17),\n",
       " 'significance_breakdown': {'***': 22, 'ns': 17, '**': 3},\n",
       " 'odds_ratio_stats': {'min': 1.7196755521618243e-11,\n",
       "  'max': 1.3969401671200836,\n",
       "  'mean': 0.6683749137192656,\n",
       "  'median': 0.9191201497977162},\n",
       " 'factor_types': {'protective_factors': 29, 'risk_factors': 11},\n",
       " 'p_value_stats': {'min': 0.0,\n",
       "  'max': 0.9984812668819361,\n",
       "  'mean': 0.25801137949784075,\n",
       "  'median': 3.849432457350164e-05}}"
      ]
     },
     "execution_count": 12,
     "metadata": {},
     "output_type": "execute_result"
    }
   ],
   "source": [
    "coef_summary"
   ]
  },
  {
   "cell_type": "code",
   "execution_count": null,
   "id": "067ae961-b3a7-4092-8f84-94f73edfebda",
   "metadata": {},
   "outputs": [],
   "source": []
  }
 ],
 "metadata": {
  "kernelspec": {
   "display_name": "Python 3 (ipykernel)",
   "language": "python",
   "name": "python3"
  },
  "language_info": {
   "codemirror_mode": {
    "name": "ipython",
    "version": 3
   },
   "file_extension": ".py",
   "mimetype": "text/x-python",
   "name": "python",
   "nbconvert_exporter": "python",
   "pygments_lexer": "ipython3",
   "version": "3.11.9"
  }
 },
 "nbformat": 4,
 "nbformat_minor": 5
}
