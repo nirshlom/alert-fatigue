{
 "cells": [
  {
   "cell_type": "code",
   "execution_count": 2,
   "id": "initial_id",
   "metadata": {
    "ExecuteTime": {
     "end_time": "2025-03-12T16:34:50.400852Z",
     "start_time": "2025-03-12T16:33:52.574197Z"
    }
   },
   "outputs": [],
   "source": [
    "import pandas as pd\n",
    "from tableone import TableOne\n",
    "import warnings\n",
    "warnings.filterwarnings(\"ignore\")"
   ]
  },
  {
   "cell_type": "code",
   "execution_count": 3,
   "id": "9084ffbd0cee371e",
   "metadata": {
    "ExecuteTime": {
     "end_time": "2025-03-16T07:21:27.918727Z",
     "start_time": "2025-03-16T07:21:10.014837Z"
    }
   },
   "outputs": [
    {
     "name": "stdout",
     "output_type": "stream",
     "text": [
      "(2543301, 66)\n"
     ]
    },
    {
     "data": {
      "text/html": [
       "<div>\n",
       "<style scoped>\n",
       "    .dataframe tbody tr th:only-of-type {\n",
       "        vertical-align: middle;\n",
       "    }\n",
       "\n",
       "    .dataframe tbody tr th {\n",
       "        vertical-align: top;\n",
       "    }\n",
       "\n",
       "    .dataframe thead th {\n",
       "        text-align: right;\n",
       "    }\n",
       "</style>\n",
       "<table border=\"1\" class=\"dataframe\">\n",
       "  <thead>\n",
       "    <tr style=\"text-align: right;\">\n",
       "      <th></th>\n",
       "      <th>Order_ID_new_update</th>\n",
       "      <th>Hospital_cat</th>\n",
       "      <th>HospitalName_EN_cat</th>\n",
       "      <th>UnitName_cat</th>\n",
       "      <th>Medical_Record_cat</th>\n",
       "      <th>SeverityLevelToStopOrder_cat</th>\n",
       "      <th>OrderOrigin</th>\n",
       "      <th>Time_Prescribing_Order</th>\n",
       "      <th>Details</th>\n",
       "      <th>ATC_NEW</th>\n",
       "      <th>...</th>\n",
       "      <th>DRC_Max_Daily_Dose_1</th>\n",
       "      <th>DRC - Message 1</th>\n",
       "      <th>DRC_Single_Dose_1</th>\n",
       "      <th>NeoDRC - Duration 1</th>\n",
       "      <th>NeoDRC - Frequency 1</th>\n",
       "      <th>NeoDRC - Max Daily Dose 1</th>\n",
       "      <th>NeoDRC - Message 1</th>\n",
       "      <th>NeoDRC - Single Dose 1</th>\n",
       "      <th>Alert_type</th>\n",
       "      <th>Alert_status</th>\n",
       "    </tr>\n",
       "  </thead>\n",
       "  <tbody>\n",
       "    <tr>\n",
       "      <th>0</th>\n",
       "      <td>19_27428962</td>\n",
       "      <td>19</td>\n",
       "      <td>YOSEFTAL</td>\n",
       "      <td>Cardiology</td>\n",
       "      <td>772042</td>\n",
       "      <td>Active Mode</td>\n",
       "      <td>Medication Order</td>\n",
       "      <td>2022-08-11T19:16:27Z</td>\n",
       "      <td>IntraVenous PERFALGAN 1000 mg     Once</td>\n",
       "      <td>N02BE01</td>\n",
       "      <td>...</td>\n",
       "      <td>0</td>\n",
       "      <td>0</td>\n",
       "      <td>0</td>\n",
       "      <td>0</td>\n",
       "      <td>0</td>\n",
       "      <td>0</td>\n",
       "      <td>0</td>\n",
       "      <td>0</td>\n",
       "      <td>Non_alert</td>\n",
       "      <td>Non_alert</td>\n",
       "    </tr>\n",
       "    <tr>\n",
       "      <th>1</th>\n",
       "      <td>19_27428964</td>\n",
       "      <td>19</td>\n",
       "      <td>YOSEFTAL</td>\n",
       "      <td>Cardiology</td>\n",
       "      <td>772042</td>\n",
       "      <td>Active Mode</td>\n",
       "      <td>Medication Order</td>\n",
       "      <td>2022-08-11T19:17:54Z</td>\n",
       "      <td>IntraVenous SODIUM CHLORIDE 0.9% 1000 ml     T...</td>\n",
       "      <td>B05XA03</td>\n",
       "      <td>...</td>\n",
       "      <td>0</td>\n",
       "      <td>0</td>\n",
       "      <td>0</td>\n",
       "      <td>0</td>\n",
       "      <td>0</td>\n",
       "      <td>0</td>\n",
       "      <td>0</td>\n",
       "      <td>0</td>\n",
       "      <td>Non_alert</td>\n",
       "      <td>Non_alert</td>\n",
       "    </tr>\n",
       "    <tr>\n",
       "      <th>2</th>\n",
       "      <td>19_27429064</td>\n",
       "      <td>19</td>\n",
       "      <td>YOSEFTAL</td>\n",
       "      <td>Cardiology</td>\n",
       "      <td>772109</td>\n",
       "      <td>Active Mode</td>\n",
       "      <td>Medication Order</td>\n",
       "      <td>2022-08-12T00:51:17Z</td>\n",
       "      <td>IntraVenous PERFALGAN 1000 mg     Once</td>\n",
       "      <td>N02BE01</td>\n",
       "      <td>...</td>\n",
       "      <td>0</td>\n",
       "      <td>0</td>\n",
       "      <td>0</td>\n",
       "      <td>0</td>\n",
       "      <td>0</td>\n",
       "      <td>0</td>\n",
       "      <td>0</td>\n",
       "      <td>0</td>\n",
       "      <td>Non_alert</td>\n",
       "      <td>Non_alert</td>\n",
       "    </tr>\n",
       "    <tr>\n",
       "      <th>3</th>\n",
       "      <td>19_27429581</td>\n",
       "      <td>19</td>\n",
       "      <td>YOSEFTAL</td>\n",
       "      <td>Cardiology</td>\n",
       "      <td>772301</td>\n",
       "      <td>Active Mode</td>\n",
       "      <td>Medication Order</td>\n",
       "      <td>2022-08-13T11:19:56Z</td>\n",
       "      <td>IntraVenous SODIUM CHLORIDE 0.9% 1500 ml     Once</td>\n",
       "      <td>B05XA03</td>\n",
       "      <td>...</td>\n",
       "      <td>0</td>\n",
       "      <td>0</td>\n",
       "      <td>0</td>\n",
       "      <td>0</td>\n",
       "      <td>0</td>\n",
       "      <td>0</td>\n",
       "      <td>0</td>\n",
       "      <td>0</td>\n",
       "      <td>Non_alert</td>\n",
       "      <td>Non_alert</td>\n",
       "    </tr>\n",
       "    <tr>\n",
       "      <th>4</th>\n",
       "      <td>19_27429587</td>\n",
       "      <td>19</td>\n",
       "      <td>YOSEFTAL</td>\n",
       "      <td>Cardiology</td>\n",
       "      <td>772301</td>\n",
       "      <td>Active Mode</td>\n",
       "      <td>Medication Order</td>\n",
       "      <td>2022-08-13T11:53:37Z</td>\n",
       "      <td>IntraVenous POTASSIUM ACETATE 29/3 40 meq     ...</td>\n",
       "      <td>B05XA17</td>\n",
       "      <td>...</td>\n",
       "      <td>0</td>\n",
       "      <td>0</td>\n",
       "      <td>0</td>\n",
       "      <td>0</td>\n",
       "      <td>0</td>\n",
       "      <td>0</td>\n",
       "      <td>0</td>\n",
       "      <td>0</td>\n",
       "      <td>Non_alert</td>\n",
       "      <td>Non_alert</td>\n",
       "    </tr>\n",
       "  </tbody>\n",
       "</table>\n",
       "<p>5 rows × 66 columns</p>\n",
       "</div>"
      ],
      "text/plain": [
       "  Order_ID_new_update  Hospital_cat HospitalName_EN_cat UnitName_cat  \\\n",
       "0         19_27428962            19            YOSEFTAL   Cardiology   \n",
       "1         19_27428964            19            YOSEFTAL   Cardiology   \n",
       "2         19_27429064            19            YOSEFTAL   Cardiology   \n",
       "3         19_27429581            19            YOSEFTAL   Cardiology   \n",
       "4         19_27429587            19            YOSEFTAL   Cardiology   \n",
       "\n",
       "   Medical_Record_cat SeverityLevelToStopOrder_cat       OrderOrigin  \\\n",
       "0              772042                  Active Mode  Medication Order   \n",
       "1              772042                  Active Mode  Medication Order   \n",
       "2              772109                  Active Mode  Medication Order   \n",
       "3              772301                  Active Mode  Medication Order   \n",
       "4              772301                  Active Mode  Medication Order   \n",
       "\n",
       "  Time_Prescribing_Order                                            Details  \\\n",
       "0   2022-08-11T19:16:27Z             IntraVenous PERFALGAN 1000 mg     Once   \n",
       "1   2022-08-11T19:17:54Z  IntraVenous SODIUM CHLORIDE 0.9% 1000 ml     T...   \n",
       "2   2022-08-12T00:51:17Z             IntraVenous PERFALGAN 1000 mg     Once   \n",
       "3   2022-08-13T11:19:56Z  IntraVenous SODIUM CHLORIDE 0.9% 1500 ml     Once   \n",
       "4   2022-08-13T11:53:37Z  IntraVenous POTASSIUM ACETATE 29/3 40 meq     ...   \n",
       "\n",
       "   ATC_NEW  ... DRC_Max_Daily_Dose_1 DRC - Message 1  DRC_Single_Dose_1  \\\n",
       "0  N02BE01  ...                    0               0                  0   \n",
       "1  B05XA03  ...                    0               0                  0   \n",
       "2  N02BE01  ...                    0               0                  0   \n",
       "3  B05XA03  ...                    0               0                  0   \n",
       "4  B05XA17  ...                    0               0                  0   \n",
       "\n",
       "  NeoDRC - Duration 1 NeoDRC - Frequency 1 NeoDRC - Max Daily Dose 1  \\\n",
       "0                   0                    0                         0   \n",
       "1                   0                    0                         0   \n",
       "2                   0                    0                         0   \n",
       "3                   0                    0                         0   \n",
       "4                   0                    0                         0   \n",
       "\n",
       "   NeoDRC - Message 1  NeoDRC - Single Dose 1  Alert_type  Alert_status  \n",
       "0                   0                       0   Non_alert     Non_alert  \n",
       "1                   0                       0   Non_alert     Non_alert  \n",
       "2                   0                       0   Non_alert     Non_alert  \n",
       "3                   0                       0   Non_alert     Non_alert  \n",
       "4                   0                       0   Non_alert     Non_alert  \n",
       "\n",
       "[5 rows x 66 columns]"
      ]
     },
     "execution_count": 3,
     "metadata": {},
     "output_type": "execute_result"
    }
   ],
   "source": [
    "df_main_active_adult = pd.read_csv('alert_analysis/data/df_main_active_adult.csv')\n",
    "print(df_main_active_adult.shape)\n",
    "df_main_active_adult.head()"
   ]
  },
  {
   "cell_type": "code",
   "execution_count": 4,
   "id": "76f03c15f76ff7d8",
   "metadata": {
    "ExecuteTime": {
     "end_time": "2025-03-16T07:21:40.937247Z",
     "start_time": "2025-03-16T07:21:39.010596Z"
    }
   },
   "outputs": [
    {
     "data": {
      "text/plain": [
       "(2543301, 66)"
      ]
     },
     "execution_count": 4,
     "metadata": {},
     "output_type": "execute_result"
    }
   ],
   "source": [
    "df_main_active_adult.columns = map(str.lower, df_main_active_adult.columns)\n",
    "\n",
    "df_main_active_adult = df_main_active_adult[\n",
    "    (df_main_active_adult['severityleveltostoporder_cat'] != \"Silence Mode\") &\n",
    "    (df_main_active_adult['adult_child_cat'] == \"adult\") &\n",
    "    (~df_main_active_adult['hospital_cat'].isin([\"243\", \"113\", \"29\"])) &\n",
    "    (~df_main_active_adult['unitname_cat'].isin([\"Day_care\", \"ICU\", \"Pediatric\", \"Rehabilitation\"]))\n",
    "]\n",
    "\n",
    "df_main_active_adult.shape"
   ]
  },
  {
   "cell_type": "code",
   "execution_count": 5,
   "id": "199c3bfdf9684a52",
   "metadata": {
    "ExecuteTime": {
     "end_time": "2025-03-16T07:24:15.273982Z",
     "start_time": "2025-03-16T07:24:14.993497Z"
    }
   },
   "outputs": [],
   "source": [
    "src_tbl1_active_by_patient = df_main_active_adult[[\n",
    "    \"id1\",\n",
    "    \"age_num\",\n",
    "    \"age_cat\",\n",
    "    \"gender_text_en_cat\",\n",
    "    \"hospitalname_en_cat\",  # count\n",
    "    \"unitname_cat\",  # count\n",
    "    \"survivalrate10years_age_adj\",  # average\n",
    "    \"medical_record_cat\",  # count\n",
    "    \"nummedamount\",\n",
    "    \"nummedamount_calc\",\n",
    "    \"chronic_num_calc\",\n",
    "    \"hosp_days\"\n",
    "]]"
   ]
  },
  {
   "cell_type": "markdown",
   "id": "2ae3a1394c992cb4",
   "metadata": {},
   "source": [
    "## Part 1: Create a TableOne Patients Characteristics (by Gender)\n",
    "\n"
   ]
  },
  {
   "cell_type": "code",
   "execution_count": 6,
   "id": "a08257c617a3efb3",
   "metadata": {
    "ExecuteTime": {
     "end_time": "2025-03-16T07:28:48.188143Z",
     "start_time": "2025-03-16T07:28:41.620043Z"
    }
   },
   "outputs": [
    {
     "data": {
      "text/plain": [
       "(155899, 10)"
      ]
     },
     "execution_count": 6,
     "metadata": {},
     "output_type": "execute_result"
    }
   ],
   "source": [
    "# Grouping and summarizing the data\n",
    "src_tbl1_active_by_patient_gb = (\n",
    "    src_tbl1_active_by_patient\n",
    "    .groupby([\"id1\", \"age_num\", \"age_cat\", \"gender_text_en_cat\"])\n",
    "    .agg(\n",
    "        hospitalname_en_cat_cnt=pd.NamedAgg(column=\"hospitalname_en_cat\", aggfunc=pd.Series.nunique),  # Count distinct\n",
    "        survivalrate10years_age_adj_mean=pd.NamedAgg(column=\"survivalrate10years_age_adj\", aggfunc=\"mean\"),  # Mean\n",
    "        medical_record_cat_cnt=pd.NamedAgg(column=\"medical_record_cat\", aggfunc=pd.Series.nunique),  # Count distinct\n",
    "        nummedamount_calc_mean=pd.NamedAgg(column=\"nummedamount_calc\", aggfunc=\"mean\"),  # Mean\n",
    "        hosp_days_mean=pd.NamedAgg(column=\"hosp_days\", aggfunc=\"mean\"),  # Mean\n",
    "        chronic_num_calc_mean=pd.NamedAgg(column=\"chronic_num_calc\", aggfunc=\"mean\")  # Mean\n",
    "    )\n",
    "    .reset_index()\n",
    ")\n",
    "\n",
    "src_tbl1_active_by_patient_gb.shape"
   ]
  },
  {
   "cell_type": "code",
   "execution_count": 8,
   "id": "ca81ffd02a0225b8",
   "metadata": {
    "ExecuteTime": {
     "end_time": "2025-03-16T07:41:27.813181Z",
     "start_time": "2025-03-16T07:41:27.775145Z"
    }
   },
   "outputs": [
    {
     "data": {
      "text/html": [
       "<div>\n",
       "<style scoped>\n",
       "    .dataframe tbody tr th:only-of-type {\n",
       "        vertical-align: middle;\n",
       "    }\n",
       "\n",
       "    .dataframe tbody tr th {\n",
       "        vertical-align: top;\n",
       "    }\n",
       "\n",
       "    .dataframe thead th {\n",
       "        text-align: right;\n",
       "    }\n",
       "</style>\n",
       "<table border=\"1\" class=\"dataframe\">\n",
       "  <thead>\n",
       "    <tr style=\"text-align: right;\">\n",
       "      <th></th>\n",
       "      <th>id1</th>\n",
       "      <th>age_num</th>\n",
       "      <th>age_cat</th>\n",
       "      <th>gender_text_en_cat</th>\n",
       "      <th>hospitalname_en_cat_cnt</th>\n",
       "      <th>survivalrate10years_age_adj_mean</th>\n",
       "      <th>medical_record_cat_cnt</th>\n",
       "      <th>nummedamount_calc_mean</th>\n",
       "      <th>hosp_days_mean</th>\n",
       "      <th>chronic_num_calc_mean</th>\n",
       "    </tr>\n",
       "  </thead>\n",
       "  <tbody>\n",
       "    <tr>\n",
       "      <th>0</th>\n",
       "      <td>2</td>\n",
       "      <td>80</td>\n",
       "      <td>76-85</td>\n",
       "      <td>FEMALE</td>\n",
       "      <td>1</td>\n",
       "      <td>21.364318</td>\n",
       "      <td>1</td>\n",
       "      <td>3.000000</td>\n",
       "      <td>1.000000</td>\n",
       "      <td>0.000000</td>\n",
       "    </tr>\n",
       "    <tr>\n",
       "      <th>1</th>\n",
       "      <td>3</td>\n",
       "      <td>74</td>\n",
       "      <td>65-75</td>\n",
       "      <td>MALE</td>\n",
       "      <td>1</td>\n",
       "      <td>77.481558</td>\n",
       "      <td>2</td>\n",
       "      <td>7.142857</td>\n",
       "      <td>2.714286</td>\n",
       "      <td>0.000000</td>\n",
       "    </tr>\n",
       "    <tr>\n",
       "      <th>2</th>\n",
       "      <td>4</td>\n",
       "      <td>76</td>\n",
       "      <td>76-85</td>\n",
       "      <td>FEMALE</td>\n",
       "      <td>1</td>\n",
       "      <td>2.245438</td>\n",
       "      <td>5</td>\n",
       "      <td>7.413793</td>\n",
       "      <td>1.758621</td>\n",
       "      <td>2.965517</td>\n",
       "    </tr>\n",
       "    <tr>\n",
       "      <th>3</th>\n",
       "      <td>5</td>\n",
       "      <td>77</td>\n",
       "      <td>76-85</td>\n",
       "      <td>FEMALE</td>\n",
       "      <td>1</td>\n",
       "      <td>77.481558</td>\n",
       "      <td>3</td>\n",
       "      <td>8.375000</td>\n",
       "      <td>1.687500</td>\n",
       "      <td>0.062500</td>\n",
       "    </tr>\n",
       "    <tr>\n",
       "      <th>4</th>\n",
       "      <td>7</td>\n",
       "      <td>75</td>\n",
       "      <td>65-75</td>\n",
       "      <td>MALE</td>\n",
       "      <td>1</td>\n",
       "      <td>77.481558</td>\n",
       "      <td>2</td>\n",
       "      <td>4.200000</td>\n",
       "      <td>2.400000</td>\n",
       "      <td>0.000000</td>\n",
       "    </tr>\n",
       "  </tbody>\n",
       "</table>\n",
       "</div>"
      ],
      "text/plain": [
       "   id1  age_num age_cat gender_text_en_cat  hospitalname_en_cat_cnt  \\\n",
       "0    2       80   76-85             FEMALE                        1   \n",
       "1    3       74   65-75               MALE                        1   \n",
       "2    4       76   76-85             FEMALE                        1   \n",
       "3    5       77   76-85             FEMALE                        1   \n",
       "4    7       75   65-75               MALE                        1   \n",
       "\n",
       "   survivalrate10years_age_adj_mean  medical_record_cat_cnt  \\\n",
       "0                         21.364318                       1   \n",
       "1                         77.481558                       2   \n",
       "2                          2.245438                       5   \n",
       "3                         77.481558                       3   \n",
       "4                         77.481558                       2   \n",
       "\n",
       "   nummedamount_calc_mean  hosp_days_mean  chronic_num_calc_mean  \n",
       "0                3.000000        1.000000               0.000000  \n",
       "1                7.142857        2.714286               0.000000  \n",
       "2                7.413793        1.758621               2.965517  \n",
       "3                8.375000        1.687500               0.062500  \n",
       "4                4.200000        2.400000               0.000000  "
      ]
     },
     "execution_count": 8,
     "metadata": {},
     "output_type": "execute_result"
    }
   ],
   "source": [
    "src_tbl1_active_by_patient['id1'].nunique()\n",
    "src_tbl1_active_by_patient_gb.head(5)"
   ]
  },
  {
   "attachments": {},
   "cell_type": "markdown",
   "id": "16d9cfbd-d819-4c41-9393-308d8102851d",
   "metadata": {},
   "source": [
    "## Patients Characteristics by Gender"
   ]
  },
  {
   "cell_type": "code",
   "execution_count": 9,
   "id": "4ade8ab930f9fa78",
   "metadata": {
    "ExecuteTime": {
     "end_time": "2025-03-16T08:30:34.987154Z",
     "start_time": "2025-03-16T08:30:32.257063Z"
    }
   },
   "outputs": [
    {
     "name": "stdout",
     "output_type": "stream",
     "text": [
      "|                                             |        | Missing   | Overall      | FEMALE        | MALE          | P-Value   |\n",
      "|:--------------------------------------------|:-------|:----------|:-------------|:--------------|:--------------|:----------|\n",
      "| n                                           |        |           | 155899       | 84563         | 71336         |           |\n",
      "| age_num, mean (SD)                          |        | 0         | 56.9 (21.7)  | 54.6 (22.8)   | 59.6 (20.0)   | <0.001    |\n",
      "| age_cat, n (%)                              | 19-30  |           | 25421 (16.3) | 17243 (20.4)  | 8178 (11.5)   | <0.001    |\n",
      "|                                             | 31-44  |           | 26872 (17.2) | 17324 (20.5)  | 9548 (13.4)   |           |\n",
      "|                                             | 45-55  |           | 17971 (11.5) | 8285 (9.8)    | 9686 (13.6)   |           |\n",
      "|                                             | 56-64  |           | 17938 (11.5) | 7805 (9.2)    | 10133 (14.2)  |           |\n",
      "|                                             | 65-75  |           | 30640 (19.7) | 13948 (16.5)  | 16692 (23.4)  |           |\n",
      "|                                             | 76-85  |           | 23268 (14.9) | 11917 (14.1)  | 11351 (15.9)  |           |\n",
      "|                                             | > 85   |           | 13789 (8.8)  | 8041 (9.5)    | 5748 (8.1)    |           |\n",
      "| gender_text_en_cat, n (%)                   | FEMALE |           | 84563 (54.2) | 84563 (100.0) |               | <0.001    |\n",
      "|                                             | MALE   |           | 71336 (45.8) |               | 71336 (100.0) |           |\n",
      "| hospitalname_en_cat_cnt, mean (SD)          |        | 0         | 1.0 (0.1)    | 1.0 (0.1)     | 1.0 (0.1)     | <0.001    |\n",
      "| survivalrate10years_age_adj_mean, mean (SD) |        | 0         | 71.4 (34.8)  | 74.2 (33.7)   | 68.1 (35.8)   | <0.001    |\n",
      "| medical_record_cat_cnt, mean (SD)           |        | 0         | 1.8 (1.5)    | 1.7 (1.4)     | 1.8 (1.7)     | <0.001    |\n",
      "| nummedamount_calc_mean, mean (SD)           |        | 0         | 10.2 (11.5)  | 9.4 (10.8)    | 11.2 (12.2)   | <0.001    |\n",
      "| hosp_days_mean, mean (SD)                   |        | 0         | 2.8 (4.0)    | 2.7 (3.7)     | 3.0 (4.3)     | <0.001    |\n",
      "| chronic_num_calc_mean, mean (SD)            |        | 0         | 1.4 (2.7)    | 1.2 (2.4)     | 1.7 (2.9)     | <0.001    |\n"
     ]
    }
   ],
   "source": [
    "# Define categorical and continuous variables\n",
    "categorical_vars = [\"gender_text_en_cat\", \"age_cat\"]\n",
    "continuous_vars = [\n",
    "    \"age_num\",\n",
    "    \"hospitalname_en_cat_cnt\",\n",
    "    \"survivalrate10years_age_adj_mean\",\n",
    "    \"medical_record_cat_cnt\",\n",
    "    \"nummedamount_calc_mean\",\n",
    "    \"hosp_days_mean\",\n",
    "    \"chronic_num_calc_mean\"\n",
    "]\n",
    "\n",
    "# Generate summary table\n",
    "table = TableOne(\n",
    "    src_tbl1_active_by_patient_gb,\n",
    "    categorical=categorical_vars,\n",
    "    groupby=\"gender_text_en_cat\",\n",
    "    continuous=continuous_vars,\n",
    "    pval=True,  # Add p-values\n",
    "    missing=True  # Show missing values\n",
    ")\n",
    "\n",
    "# Print the table\n",
    "print(table.tabulate(tablefmt=\"pipe\"))"
   ]
  },
  {
   "cell_type": "code",
   "execution_count": null,
   "id": "eb2efcd12bfe69f9",
   "metadata": {
    "ExecuteTime": {
     "end_time": "2025-03-16T08:28:43.703587Z",
     "start_time": "2025-03-16T08:28:43.675350Z"
    }
   },
   "outputs": [],
   "source": []
  },
  {
   "cell_type": "code",
   "execution_count": 26,
   "id": "132980183b9c8626",
   "metadata": {
    "ExecuteTime": {
     "end_time": "2025-03-16T08:29:02.365727Z",
     "start_time": "2025-03-16T08:29:02.321802Z"
    }
   },
   "outputs": [
    {
     "data": {
      "text/plain": [
       "gender_text_en_cat\n",
       "FEMALE    84563\n",
       "MALE      71336\n",
       "Name: count, dtype: int64"
      ]
     },
     "execution_count": 26,
     "metadata": {},
     "output_type": "execute_result"
    }
   ],
   "source": [
    "src_tbl1_active_by_patient_gb['gender_text_en_cat'].value_counts()"
   ]
  },
  {
   "cell_type": "code",
   "execution_count": null,
   "id": "905b14bd8caf5e28",
   "metadata": {},
   "outputs": [],
   "source": [
    "# test more ...."
   ]
  },
  {
   "cell_type": "code",
   "execution_count": null,
   "id": "735e90178635753b",
   "metadata": {},
   "outputs": [],
   "source": [
    "# an additional test"
   ]
  },
  {
   "cell_type": "code",
   "execution_count": null,
   "id": "1045130fdd3c9cd6",
   "metadata": {},
   "outputs": [],
   "source": [
    "# an additional test"
   ]
  }
 ],
 "metadata": {
  "kernelspec": {
   "display_name": "Python 3 (ipykernel)",
   "language": "python",
   "name": "python3"
  },
  "language_info": {
   "codemirror_mode": {
    "name": "ipython",
    "version": 3
   },
   "file_extension": ".py",
   "mimetype": "text/x-python",
   "name": "python",
   "nbconvert_exporter": "python",
   "pygments_lexer": "ipython3",
   "version": "3.11.11"
  }
 },
 "nbformat": 4,
 "nbformat_minor": 5
}
